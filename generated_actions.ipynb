{
 "cells": [
  {
   "cell_type": "code",
   "execution_count": 5,
   "metadata": {},
   "outputs": [
    {
     "name": "stdout",
     "output_type": "stream",
     "text": [
      "Requirement already satisfied: langchain in c:\\users\\dsobc\\onedrive\\desktop\\github_projects\\venv_aiswre\\lib\\site-packages (0.3.21)\n",
      "Requirement already satisfied: langchain-community in c:\\users\\dsobc\\onedrive\\desktop\\github_projects\\venv_aiswre\\lib\\site-packages (0.3.20)\n",
      "Requirement already satisfied: langchain-ollama in c:\\users\\dsobc\\onedrive\\desktop\\github_projects\\venv_aiswre\\lib\\site-packages (0.3.0)\n",
      "Requirement already satisfied: pandas in c:\\users\\dsobc\\onedrive\\desktop\\github_projects\\venv_aiswre\\lib\\site-packages (2.2.3)\n",
      "Requirement already satisfied: langchain-openai in c:\\users\\dsobc\\onedrive\\desktop\\github_projects\\venv_aiswre\\lib\\site-packages (0.3.11)\n",
      "Requirement already satisfied: python-dotenv in c:\\users\\dsobc\\onedrive\\desktop\\github_projects\\venv_aiswre\\lib\\site-packages (1.1.0)\n",
      "Requirement already satisfied: pypdf in c:\\users\\dsobc\\onedrive\\desktop\\github_projects\\venv_aiswre\\lib\\site-packages (5.4.0)\n",
      "Collecting openpyxl\n",
      "  Using cached openpyxl-3.1.5-py2.py3-none-any.whl.metadata (2.5 kB)\n",
      "Requirement already satisfied: langchain-core<1.0.0,>=0.3.45 in c:\\users\\dsobc\\onedrive\\desktop\\github_projects\\venv_aiswre\\lib\\site-packages (from langchain) (0.3.49)\n",
      "Requirement already satisfied: langchain-text-splitters<1.0.0,>=0.3.7 in c:\\users\\dsobc\\onedrive\\desktop\\github_projects\\venv_aiswre\\lib\\site-packages (from langchain) (0.3.7)\n",
      "Requirement already satisfied: langsmith<0.4,>=0.1.17 in c:\\users\\dsobc\\onedrive\\desktop\\github_projects\\venv_aiswre\\lib\\site-packages (from langchain) (0.3.19)\n",
      "Requirement already satisfied: pydantic<3.0.0,>=2.7.4 in c:\\users\\dsobc\\onedrive\\desktop\\github_projects\\venv_aiswre\\lib\\site-packages (from langchain) (2.11.1)\n",
      "Requirement already satisfied: SQLAlchemy<3,>=1.4 in c:\\users\\dsobc\\onedrive\\desktop\\github_projects\\venv_aiswre\\lib\\site-packages (from langchain) (2.0.40)\n",
      "Requirement already satisfied: requests<3,>=2 in c:\\users\\dsobc\\onedrive\\desktop\\github_projects\\venv_aiswre\\lib\\site-packages (from langchain) (2.32.3)\n",
      "Requirement already satisfied: PyYAML>=5.3 in c:\\users\\dsobc\\onedrive\\desktop\\github_projects\\venv_aiswre\\lib\\site-packages (from langchain) (6.0.2)\n",
      "Requirement already satisfied: aiohttp<4.0.0,>=3.8.3 in c:\\users\\dsobc\\onedrive\\desktop\\github_projects\\venv_aiswre\\lib\\site-packages (from langchain-community) (3.11.14)\n",
      "Requirement already satisfied: tenacity!=8.4.0,<10,>=8.1.0 in c:\\users\\dsobc\\onedrive\\desktop\\github_projects\\venv_aiswre\\lib\\site-packages (from langchain-community) (9.0.0)\n",
      "Requirement already satisfied: dataclasses-json<0.7,>=0.5.7 in c:\\users\\dsobc\\onedrive\\desktop\\github_projects\\venv_aiswre\\lib\\site-packages (from langchain-community) (0.6.7)\n",
      "Requirement already satisfied: pydantic-settings<3.0.0,>=2.4.0 in c:\\users\\dsobc\\onedrive\\desktop\\github_projects\\venv_aiswre\\lib\\site-packages (from langchain-community) (2.8.1)\n",
      "Requirement already satisfied: httpx-sse<1.0.0,>=0.4.0 in c:\\users\\dsobc\\onedrive\\desktop\\github_projects\\venv_aiswre\\lib\\site-packages (from langchain-community) (0.4.0)\n",
      "Requirement already satisfied: numpy<3,>=1.26.2 in c:\\users\\dsobc\\onedrive\\desktop\\github_projects\\venv_aiswre\\lib\\site-packages (from langchain-community) (2.2.4)\n",
      "Requirement already satisfied: ollama<1,>=0.4.4 in c:\\users\\dsobc\\onedrive\\desktop\\github_projects\\venv_aiswre\\lib\\site-packages (from langchain-ollama) (0.4.7)\n",
      "Requirement already satisfied: python-dateutil>=2.8.2 in c:\\users\\dsobc\\onedrive\\desktop\\github_projects\\venv_aiswre\\lib\\site-packages (from pandas) (2.9.0.post0)\n",
      "Requirement already satisfied: pytz>=2020.1 in c:\\users\\dsobc\\onedrive\\desktop\\github_projects\\venv_aiswre\\lib\\site-packages (from pandas) (2025.2)\n",
      "Requirement already satisfied: tzdata>=2022.7 in c:\\users\\dsobc\\onedrive\\desktop\\github_projects\\venv_aiswre\\lib\\site-packages (from pandas) (2025.2)\n",
      "Requirement already satisfied: openai<2.0.0,>=1.68.2 in c:\\users\\dsobc\\onedrive\\desktop\\github_projects\\venv_aiswre\\lib\\site-packages (from langchain-openai) (1.69.0)\n",
      "Requirement already satisfied: tiktoken<1,>=0.7 in c:\\users\\dsobc\\onedrive\\desktop\\github_projects\\venv_aiswre\\lib\\site-packages (from langchain-openai) (0.9.0)\n",
      "Collecting et-xmlfile (from openpyxl)\n",
      "  Using cached et_xmlfile-2.0.0-py3-none-any.whl.metadata (2.7 kB)\n",
      "Requirement already satisfied: aiohappyeyeballs>=2.3.0 in c:\\users\\dsobc\\onedrive\\desktop\\github_projects\\venv_aiswre\\lib\\site-packages (from aiohttp<4.0.0,>=3.8.3->langchain-community) (2.6.1)\n",
      "Requirement already satisfied: aiosignal>=1.1.2 in c:\\users\\dsobc\\onedrive\\desktop\\github_projects\\venv_aiswre\\lib\\site-packages (from aiohttp<4.0.0,>=3.8.3->langchain-community) (1.3.2)\n",
      "Requirement already satisfied: attrs>=17.3.0 in c:\\users\\dsobc\\onedrive\\desktop\\github_projects\\venv_aiswre\\lib\\site-packages (from aiohttp<4.0.0,>=3.8.3->langchain-community) (25.3.0)\n",
      "Requirement already satisfied: frozenlist>=1.1.1 in c:\\users\\dsobc\\onedrive\\desktop\\github_projects\\venv_aiswre\\lib\\site-packages (from aiohttp<4.0.0,>=3.8.3->langchain-community) (1.5.0)\n",
      "Requirement already satisfied: multidict<7.0,>=4.5 in c:\\users\\dsobc\\onedrive\\desktop\\github_projects\\venv_aiswre\\lib\\site-packages (from aiohttp<4.0.0,>=3.8.3->langchain-community) (6.2.0)\n",
      "Requirement already satisfied: propcache>=0.2.0 in c:\\users\\dsobc\\onedrive\\desktop\\github_projects\\venv_aiswre\\lib\\site-packages (from aiohttp<4.0.0,>=3.8.3->langchain-community) (0.3.1)\n",
      "Requirement already satisfied: yarl<2.0,>=1.17.0 in c:\\users\\dsobc\\onedrive\\desktop\\github_projects\\venv_aiswre\\lib\\site-packages (from aiohttp<4.0.0,>=3.8.3->langchain-community) (1.18.3)\n",
      "Requirement already satisfied: marshmallow<4.0.0,>=3.18.0 in c:\\users\\dsobc\\onedrive\\desktop\\github_projects\\venv_aiswre\\lib\\site-packages (from dataclasses-json<0.7,>=0.5.7->langchain-community) (3.26.1)\n",
      "Requirement already satisfied: typing-inspect<1,>=0.4.0 in c:\\users\\dsobc\\onedrive\\desktop\\github_projects\\venv_aiswre\\lib\\site-packages (from dataclasses-json<0.7,>=0.5.7->langchain-community) (0.9.0)\n",
      "Requirement already satisfied: jsonpatch<2.0,>=1.33 in c:\\users\\dsobc\\onedrive\\desktop\\github_projects\\venv_aiswre\\lib\\site-packages (from langchain-core<1.0.0,>=0.3.45->langchain) (1.33)\n",
      "Requirement already satisfied: packaging<25,>=23.2 in c:\\users\\dsobc\\onedrive\\desktop\\github_projects\\venv_aiswre\\lib\\site-packages (from langchain-core<1.0.0,>=0.3.45->langchain) (24.2)\n",
      "Requirement already satisfied: typing-extensions>=4.7 in c:\\users\\dsobc\\onedrive\\desktop\\github_projects\\venv_aiswre\\lib\\site-packages (from langchain-core<1.0.0,>=0.3.45->langchain) (4.13.0)\n",
      "Requirement already satisfied: httpx<1,>=0.23.0 in c:\\users\\dsobc\\onedrive\\desktop\\github_projects\\venv_aiswre\\lib\\site-packages (from langsmith<0.4,>=0.1.17->langchain) (0.28.1)\n",
      "Requirement already satisfied: orjson<4.0.0,>=3.9.14 in c:\\users\\dsobc\\onedrive\\desktop\\github_projects\\venv_aiswre\\lib\\site-packages (from langsmith<0.4,>=0.1.17->langchain) (3.10.16)\n",
      "Requirement already satisfied: requests-toolbelt<2.0.0,>=1.0.0 in c:\\users\\dsobc\\onedrive\\desktop\\github_projects\\venv_aiswre\\lib\\site-packages (from langsmith<0.4,>=0.1.17->langchain) (1.0.0)\n",
      "Requirement already satisfied: zstandard<0.24.0,>=0.23.0 in c:\\users\\dsobc\\onedrive\\desktop\\github_projects\\venv_aiswre\\lib\\site-packages (from langsmith<0.4,>=0.1.17->langchain) (0.23.0)\n",
      "Requirement already satisfied: anyio<5,>=3.5.0 in c:\\users\\dsobc\\onedrive\\desktop\\github_projects\\venv_aiswre\\lib\\site-packages (from openai<2.0.0,>=1.68.2->langchain-openai) (4.9.0)\n",
      "Requirement already satisfied: distro<2,>=1.7.0 in c:\\users\\dsobc\\onedrive\\desktop\\github_projects\\venv_aiswre\\lib\\site-packages (from openai<2.0.0,>=1.68.2->langchain-openai) (1.9.0)\n",
      "Requirement already satisfied: jiter<1,>=0.4.0 in c:\\users\\dsobc\\onedrive\\desktop\\github_projects\\venv_aiswre\\lib\\site-packages (from openai<2.0.0,>=1.68.2->langchain-openai) (0.9.0)\n",
      "Requirement already satisfied: sniffio in c:\\users\\dsobc\\onedrive\\desktop\\github_projects\\venv_aiswre\\lib\\site-packages (from openai<2.0.0,>=1.68.2->langchain-openai) (1.3.1)\n",
      "Requirement already satisfied: tqdm>4 in c:\\users\\dsobc\\onedrive\\desktop\\github_projects\\venv_aiswre\\lib\\site-packages (from openai<2.0.0,>=1.68.2->langchain-openai) (4.67.1)\n",
      "Requirement already satisfied: annotated-types>=0.6.0 in c:\\users\\dsobc\\onedrive\\desktop\\github_projects\\venv_aiswre\\lib\\site-packages (from pydantic<3.0.0,>=2.7.4->langchain) (0.7.0)\n",
      "Requirement already satisfied: pydantic-core==2.33.0 in c:\\users\\dsobc\\onedrive\\desktop\\github_projects\\venv_aiswre\\lib\\site-packages (from pydantic<3.0.0,>=2.7.4->langchain) (2.33.0)\n",
      "Requirement already satisfied: typing-inspection>=0.4.0 in c:\\users\\dsobc\\onedrive\\desktop\\github_projects\\venv_aiswre\\lib\\site-packages (from pydantic<3.0.0,>=2.7.4->langchain) (0.4.0)\n",
      "Requirement already satisfied: six>=1.5 in c:\\users\\dsobc\\onedrive\\desktop\\github_projects\\venv_aiswre\\lib\\site-packages (from python-dateutil>=2.8.2->pandas) (1.17.0)\n",
      "Requirement already satisfied: charset-normalizer<4,>=2 in c:\\users\\dsobc\\onedrive\\desktop\\github_projects\\venv_aiswre\\lib\\site-packages (from requests<3,>=2->langchain) (3.4.1)\n",
      "Requirement already satisfied: idna<4,>=2.5 in c:\\users\\dsobc\\onedrive\\desktop\\github_projects\\venv_aiswre\\lib\\site-packages (from requests<3,>=2->langchain) (3.10)\n",
      "Requirement already satisfied: urllib3<3,>=1.21.1 in c:\\users\\dsobc\\onedrive\\desktop\\github_projects\\venv_aiswre\\lib\\site-packages (from requests<3,>=2->langchain) (2.3.0)\n",
      "Requirement already satisfied: certifi>=2017.4.17 in c:\\users\\dsobc\\onedrive\\desktop\\github_projects\\venv_aiswre\\lib\\site-packages (from requests<3,>=2->langchain) (2025.1.31)\n",
      "Requirement already satisfied: greenlet>=1 in c:\\users\\dsobc\\onedrive\\desktop\\github_projects\\venv_aiswre\\lib\\site-packages (from SQLAlchemy<3,>=1.4->langchain) (3.1.1)\n",
      "Requirement already satisfied: regex>=2022.1.18 in c:\\users\\dsobc\\onedrive\\desktop\\github_projects\\venv_aiswre\\lib\\site-packages (from tiktoken<1,>=0.7->langchain-openai) (2024.11.6)\n",
      "Requirement already satisfied: httpcore==1.* in c:\\users\\dsobc\\onedrive\\desktop\\github_projects\\venv_aiswre\\lib\\site-packages (from httpx<1,>=0.23.0->langsmith<0.4,>=0.1.17->langchain) (1.0.7)\n",
      "Requirement already satisfied: h11<0.15,>=0.13 in c:\\users\\dsobc\\onedrive\\desktop\\github_projects\\venv_aiswre\\lib\\site-packages (from httpcore==1.*->httpx<1,>=0.23.0->langsmith<0.4,>=0.1.17->langchain) (0.14.0)\n",
      "Requirement already satisfied: jsonpointer>=1.9 in c:\\users\\dsobc\\onedrive\\desktop\\github_projects\\venv_aiswre\\lib\\site-packages (from jsonpatch<2.0,>=1.33->langchain-core<1.0.0,>=0.3.45->langchain) (3.0.0)\n",
      "Requirement already satisfied: colorama in c:\\users\\dsobc\\onedrive\\desktop\\github_projects\\venv_aiswre\\lib\\site-packages (from tqdm>4->openai<2.0.0,>=1.68.2->langchain-openai) (0.4.6)\n",
      "Requirement already satisfied: mypy-extensions>=0.3.0 in c:\\users\\dsobc\\onedrive\\desktop\\github_projects\\venv_aiswre\\lib\\site-packages (from typing-inspect<1,>=0.4.0->dataclasses-json<0.7,>=0.5.7->langchain-community) (1.0.0)\n",
      "Using cached openpyxl-3.1.5-py2.py3-none-any.whl (250 kB)\n",
      "Using cached et_xmlfile-2.0.0-py3-none-any.whl (18 kB)\n",
      "Installing collected packages: et-xmlfile, openpyxl\n",
      "Successfully installed et-xmlfile-2.0.0 openpyxl-3.1.5\n"
     ]
    },
    {
     "name": "stderr",
     "output_type": "stream",
     "text": [
      "\n",
      "[notice] A new release of pip is available: 24.0 -> 25.0.1\n",
      "[notice] To update, run: python.exe -m pip install --upgrade pip\n"
     ]
    }
   ],
   "source": [
    "!pip install langchain langchain-community langchain-ollama pandas langchain-openai python-dotenv pypdf openpyxl"
   ]
  },
  {
   "cell_type": "code",
   "execution_count": 2,
   "metadata": {},
   "outputs": [
    {
     "name": "stdout",
     "output_type": "stream",
     "text": [
      "^C\n"
     ]
    }
   ],
   "source": [
    "!ollama run llama-3.1:8b"
   ]
  },
  {
   "cell_type": "code",
   "execution_count": 2,
   "metadata": {},
   "outputs": [],
   "source": [
    "import re\n",
    "import pandas as pd\n",
    "from dotenv import dotenv_values\n",
    "from langchain_core.prompts.chat import ChatPromptTemplate\n",
    "from langchain_core.output_parsers import StrOutputParser\n",
    "from langchain_community.document_loaders import PyPDFLoader\n",
    "from langchain_text_splitters import RecursiveCharacterTextSplitter\n",
    "from langchain_community.vectorstores import InMemoryVectorStore\n",
    "from langchain_openai import OpenAIEmbeddings, ChatOpenAI\n",
    "#from langchain_ollama import ChatOllama, OllamaEmbeddings\n",
    "from langchain_core.runnables import (\n",
    "    RunnableLambda,\n",
    "    RunnableParallel,\n",
    "    RunnablePassthrough,\n",
    ")"
   ]
  },
  {
   "cell_type": "code",
   "execution_count": 3,
   "metadata": {},
   "outputs": [],
   "source": [
    "config = dotenv_values(\".env\")"
   ]
  },
  {
   "cell_type": "code",
   "execution_count": 4,
   "metadata": {},
   "outputs": [],
   "source": [
    "# Instantiate the OpenAI client\n",
    "secret_key = config['OPENAI_API_KEY']\n",
    "client = ChatOpenAI(api_key=secret_key, model='gpt-4o-mini')\n",
    "embeddings=OpenAIEmbeddings(api_key=secret_key, model='gpt-4o-mini')\n",
    "vstore = InMemoryVectorStore(embeddings)"
   ]
  },
  {
   "cell_type": "code",
   "execution_count": 4,
   "metadata": {},
   "outputs": [
    {
     "ename": "NotImplementedError",
     "evalue": "only Standard PDF encryption handler is available",
     "output_type": "error",
     "traceback": [
      "\u001b[31m---------------------------------------------------------------------------\u001b[39m",
      "\u001b[31mNotImplementedError\u001b[39m                       Traceback (most recent call last)",
      "\u001b[36mCell\u001b[39m\u001b[36m \u001b[39m\u001b[32mIn[4]\u001b[39m\u001b[32m, line 4\u001b[39m\n\u001b[32m      2\u001b[39m pdf_loader = PyPDFLoader(\u001b[33m\"\u001b[39m\u001b[33mC:/Users/dsobc/Downloads/ISO+13485-2016 (2).pdf\u001b[39m\u001b[33m\"\u001b[39m)\n\u001b[32m      3\u001b[39m splitter = RecursiveCharacterTextSplitter(chunk_size=\u001b[32m512\u001b[39m, chunk_overlap=\u001b[32m64\u001b[39m)\n\u001b[32m----> \u001b[39m\u001b[32m4\u001b[39m docs_from_pdf = \u001b[43mpdf_loader\u001b[49m\u001b[43m.\u001b[49m\u001b[43mload_and_split\u001b[49m\u001b[43m(\u001b[49m\u001b[43mtext_splitter\u001b[49m\u001b[43m=\u001b[49m\u001b[43msplitter\u001b[49m\u001b[43m)\u001b[49m\n\u001b[32m      6\u001b[39m \u001b[38;5;28mprint\u001b[39m(\u001b[33mf\u001b[39m\u001b[33m\"\u001b[39m\u001b[33mDocuments from PDF: \u001b[39m\u001b[38;5;132;01m{\u001b[39;00m\u001b[38;5;28mlen\u001b[39m(docs_from_pdf)\u001b[38;5;132;01m}\u001b[39;00m\u001b[33m.\u001b[39m\u001b[33m\"\u001b[39m)\n\u001b[32m      7\u001b[39m \u001b[38;5;66;03m#print(docs_from_pdf[0])\u001b[39;00m\n",
      "\u001b[36mFile \u001b[39m\u001b[32mc:\\Users\\dsobc\\OneDrive\\Desktop\\github_projects\\venv_aiswre\\Lib\\site-packages\\langchain_core\\document_loaders\\base.py:66\u001b[39m, in \u001b[36mBaseLoader.load_and_split\u001b[39m\u001b[34m(self, text_splitter)\u001b[39m\n\u001b[32m     64\u001b[39m \u001b[38;5;28;01melse\u001b[39;00m:\n\u001b[32m     65\u001b[39m     _text_splitter = text_splitter\n\u001b[32m---> \u001b[39m\u001b[32m66\u001b[39m docs = \u001b[38;5;28;43mself\u001b[39;49m\u001b[43m.\u001b[49m\u001b[43mload\u001b[49m\u001b[43m(\u001b[49m\u001b[43m)\u001b[49m\n\u001b[32m     67\u001b[39m \u001b[38;5;28;01mreturn\u001b[39;00m _text_splitter.split_documents(docs)\n",
      "\u001b[36mFile \u001b[39m\u001b[32mc:\\Users\\dsobc\\OneDrive\\Desktop\\github_projects\\venv_aiswre\\Lib\\site-packages\\langchain_core\\document_loaders\\base.py:32\u001b[39m, in \u001b[36mBaseLoader.load\u001b[39m\u001b[34m(self)\u001b[39m\n\u001b[32m     30\u001b[39m \u001b[38;5;28;01mdef\u001b[39;00m\u001b[38;5;250m \u001b[39m\u001b[34mload\u001b[39m(\u001b[38;5;28mself\u001b[39m) -> \u001b[38;5;28mlist\u001b[39m[Document]:\n\u001b[32m     31\u001b[39m \u001b[38;5;250m    \u001b[39m\u001b[33;03m\"\"\"Load data into Document objects.\"\"\"\u001b[39;00m\n\u001b[32m---> \u001b[39m\u001b[32m32\u001b[39m     \u001b[38;5;28;01mreturn\u001b[39;00m \u001b[38;5;28;43mlist\u001b[39;49m\u001b[43m(\u001b[49m\u001b[38;5;28;43mself\u001b[39;49m\u001b[43m.\u001b[49m\u001b[43mlazy_load\u001b[49m\u001b[43m(\u001b[49m\u001b[43m)\u001b[49m\u001b[43m)\u001b[49m\n",
      "\u001b[36mFile \u001b[39m\u001b[32mc:\\Users\\dsobc\\OneDrive\\Desktop\\github_projects\\venv_aiswre\\Lib\\site-packages\\langchain_community\\document_loaders\\pdf.py:307\u001b[39m, in \u001b[36mPyPDFLoader.lazy_load\u001b[39m\u001b[34m(self)\u001b[39m\n\u001b[32m    305\u001b[39m \u001b[38;5;28;01melse\u001b[39;00m:\n\u001b[32m    306\u001b[39m     blob = Blob.from_path(\u001b[38;5;28mself\u001b[39m.file_path)  \u001b[38;5;66;03m# type: ignore[attr-defined]\u001b[39;00m\n\u001b[32m--> \u001b[39m\u001b[32m307\u001b[39m \u001b[38;5;28;01myield from\u001b[39;00m \u001b[38;5;28mself\u001b[39m.parser.lazy_parse(blob)\n",
      "\u001b[36mFile \u001b[39m\u001b[32mc:\\Users\\dsobc\\OneDrive\\Desktop\\github_projects\\venv_aiswre\\Lib\\site-packages\\langchain_community\\document_loaders\\parsers\\pdf.py:384\u001b[39m, in \u001b[36mPyPDFParser.lazy_parse\u001b[39m\u001b[34m(self, blob)\u001b[39m\n\u001b[32m    378\u001b[39m         \u001b[38;5;28;01mreturn\u001b[39;00m page.extract_text(\n\u001b[32m    379\u001b[39m             extraction_mode=\u001b[38;5;28mself\u001b[39m.extraction_mode,\n\u001b[32m    380\u001b[39m             **\u001b[38;5;28mself\u001b[39m.extraction_kwargs,\n\u001b[32m    381\u001b[39m         )\n\u001b[32m    383\u001b[39m \u001b[38;5;28;01mwith\u001b[39;00m blob.as_bytes_io() \u001b[38;5;28;01mas\u001b[39;00m pdf_file_obj:  \u001b[38;5;66;03m# type: ignore[attr-defined]\u001b[39;00m\n\u001b[32m--> \u001b[39m\u001b[32m384\u001b[39m     pdf_reader = \u001b[43mpypdf\u001b[49m\u001b[43m.\u001b[49m\u001b[43mPdfReader\u001b[49m\u001b[43m(\u001b[49m\u001b[43mpdf_file_obj\u001b[49m\u001b[43m,\u001b[49m\u001b[43m \u001b[49m\u001b[43mpassword\u001b[49m\u001b[43m=\u001b[49m\u001b[38;5;28;43mself\u001b[39;49m\u001b[43m.\u001b[49m\u001b[43mpassword\u001b[49m\u001b[43m)\u001b[49m\n\u001b[32m    386\u001b[39m     doc_metadata = _purge_metadata(\n\u001b[32m    387\u001b[39m         {\u001b[33m\"\u001b[39m\u001b[33mproducer\u001b[39m\u001b[33m\"\u001b[39m: \u001b[33m\"\u001b[39m\u001b[33mPyPDF\u001b[39m\u001b[33m\"\u001b[39m, \u001b[33m\"\u001b[39m\u001b[33mcreator\u001b[39m\u001b[33m\"\u001b[39m: \u001b[33m\"\u001b[39m\u001b[33mPyPDF\u001b[39m\u001b[33m\"\u001b[39m, \u001b[33m\"\u001b[39m\u001b[33mcreationdate\u001b[39m\u001b[33m\"\u001b[39m: \u001b[33m\"\u001b[39m\u001b[33m\"\u001b[39m}\n\u001b[32m    388\u001b[39m         | cast(\u001b[38;5;28mdict\u001b[39m, pdf_reader.metadata \u001b[38;5;129;01mor\u001b[39;00m {})\n\u001b[32m   (...)\u001b[39m\u001b[32m    392\u001b[39m         }\n\u001b[32m    393\u001b[39m     )\n\u001b[32m    394\u001b[39m     single_texts = []\n",
      "\u001b[36mFile \u001b[39m\u001b[32mc:\\Users\\dsobc\\OneDrive\\Desktop\\github_projects\\venv_aiswre\\Lib\\site-packages\\pypdf\\_reader.py:142\u001b[39m, in \u001b[36mPdfReader.__init__\u001b[39m\u001b[34m(self, stream, strict, password)\u001b[39m\n\u001b[32m    140\u001b[39m \u001b[38;5;28mself\u001b[39m._encryption: Optional[Encryption] = \u001b[38;5;28;01mNone\u001b[39;00m\n\u001b[32m    141\u001b[39m \u001b[38;5;28;01mif\u001b[39;00m \u001b[38;5;28mself\u001b[39m.is_encrypted:\n\u001b[32m--> \u001b[39m\u001b[32m142\u001b[39m     \u001b[38;5;28;43mself\u001b[39;49m\u001b[43m.\u001b[49m\u001b[43m_handle_encryption\u001b[49m\u001b[43m(\u001b[49m\u001b[43mpassword\u001b[49m\u001b[43m)\u001b[49m\n\u001b[32m    143\u001b[39m \u001b[38;5;28;01melif\u001b[39;00m password \u001b[38;5;129;01mis\u001b[39;00m \u001b[38;5;129;01mnot\u001b[39;00m \u001b[38;5;28;01mNone\u001b[39;00m:\n\u001b[32m    144\u001b[39m     \u001b[38;5;28;01mraise\u001b[39;00m PdfReadError(\u001b[33m\"\u001b[39m\u001b[33mNot an encrypted file\u001b[39m\u001b[33m\"\u001b[39m)\n",
      "\u001b[36mFile \u001b[39m\u001b[32mc:\\Users\\dsobc\\OneDrive\\Desktop\\github_projects\\venv_aiswre\\Lib\\site-packages\\pypdf\\_reader.py:169\u001b[39m, in \u001b[36mPdfReader._handle_encryption\u001b[39m\u001b[34m(self, password)\u001b[39m\n\u001b[32m    167\u001b[39m id1_entry = id_entry[\u001b[32m0\u001b[39m].get_object().original_bytes \u001b[38;5;28;01mif\u001b[39;00m id_entry \u001b[38;5;28;01melse\u001b[39;00m \u001b[33mb\u001b[39m\u001b[33m\"\u001b[39m\u001b[33m\"\u001b[39m\n\u001b[32m    168\u001b[39m encrypt_entry = cast(DictionaryObject, \u001b[38;5;28mself\u001b[39m.trailer[TK.ENCRYPT].get_object())\n\u001b[32m--> \u001b[39m\u001b[32m169\u001b[39m \u001b[38;5;28mself\u001b[39m._encryption = \u001b[43mEncryption\u001b[49m\u001b[43m.\u001b[49m\u001b[43mread\u001b[49m\u001b[43m(\u001b[49m\u001b[43mencrypt_entry\u001b[49m\u001b[43m,\u001b[49m\u001b[43m \u001b[49m\u001b[43mid1_entry\u001b[49m\u001b[43m)\u001b[49m\n\u001b[32m    171\u001b[39m \u001b[38;5;66;03m# try empty password if no password provided\u001b[39;00m\n\u001b[32m    172\u001b[39m pwd = password \u001b[38;5;28;01mif\u001b[39;00m password \u001b[38;5;129;01mis\u001b[39;00m \u001b[38;5;129;01mnot\u001b[39;00m \u001b[38;5;28;01mNone\u001b[39;00m \u001b[38;5;28;01melse\u001b[39;00m \u001b[33mb\u001b[39m\u001b[33m\"\u001b[39m\u001b[33m\"\u001b[39m\n",
      "\u001b[36mFile \u001b[39m\u001b[32mc:\\Users\\dsobc\\OneDrive\\Desktop\\github_projects\\venv_aiswre\\Lib\\site-packages\\pypdf\\_encryption.py:1091\u001b[39m, in \u001b[36mEncryption.read\u001b[39m\u001b[34m(encryption_entry, first_id_entry)\u001b[39m\n\u001b[32m   1088\u001b[39m \u001b[38;5;129m@staticmethod\u001b[39m\n\u001b[32m   1089\u001b[39m \u001b[38;5;28;01mdef\u001b[39;00m\u001b[38;5;250m \u001b[39m\u001b[34mread\u001b[39m(encryption_entry: DictionaryObject, first_id_entry: \u001b[38;5;28mbytes\u001b[39m) -> \u001b[33m\"\u001b[39m\u001b[33mEncryption\u001b[39m\u001b[33m\"\u001b[39m:\n\u001b[32m   1090\u001b[39m     \u001b[38;5;28;01mif\u001b[39;00m encryption_entry.get(\u001b[33m\"\u001b[39m\u001b[33m/Filter\u001b[39m\u001b[33m\"\u001b[39m) != \u001b[33m\"\u001b[39m\u001b[33m/Standard\u001b[39m\u001b[33m\"\u001b[39m:\n\u001b[32m-> \u001b[39m\u001b[32m1091\u001b[39m         \u001b[38;5;28;01mraise\u001b[39;00m \u001b[38;5;167;01mNotImplementedError\u001b[39;00m(\n\u001b[32m   1092\u001b[39m             \u001b[33m\"\u001b[39m\u001b[33monly Standard PDF encryption handler is available\u001b[39m\u001b[33m\"\u001b[39m\n\u001b[32m   1093\u001b[39m         )\n\u001b[32m   1094\u001b[39m     \u001b[38;5;28;01mif\u001b[39;00m \u001b[33m\"\u001b[39m\u001b[33m/SubFilter\u001b[39m\u001b[33m\"\u001b[39m \u001b[38;5;129;01min\u001b[39;00m encryption_entry:\n\u001b[32m   1095\u001b[39m         \u001b[38;5;28;01mraise\u001b[39;00m \u001b[38;5;167;01mNotImplementedError\u001b[39;00m(\u001b[33m\"\u001b[39m\u001b[33m/SubFilter NOT supported\u001b[39m\u001b[33m\"\u001b[39m)\n",
      "\u001b[31mNotImplementedError\u001b[39m: only Standard PDF encryption handler is available"
     ]
    }
   ],
   "source": [
    "\n",
    "#pdf_loader = PyPDFLoader(\"./aiswre/data/ISO+13485-2016.pdf\")\n",
    "pdf_loader = PyPDFLoader(\"C:/Users/dsobc/Downloads/ISO+13485-2016 (2).pdf\")\n",
    "splitter = RecursiveCharacterTextSplitter(chunk_size=512, chunk_overlap=64)\n",
    "docs_from_pdf = pdf_loader.load_and_split(text_splitter=splitter)\n",
    "\n",
    "print(f\"Documents from PDF: {len(docs_from_pdf)}.\")\n",
    "#print(docs_from_pdf[0])\n",
    "inserted_ids_from_pdf = vstore.add_documents(docs_from_pdf)\n",
    "print(f\"Inserted {len(inserted_ids_from_pdf)} documents.\")\n",
    "#print(inserted_ids_from_pdf[0])\n",
    "df = pd.DataFrame({\n",
    "    'inserted_id': [i for i in inserted_ids_from_pdf],\n",
    "    'chunk':[d.page_content for d in docs_from_pdf]\n",
    "})\n",
    "df.to_excel(\"./aiswre/data/IEC_62304-2006_sample_chunks.xlsx\")"
   ]
  },
  {
   "cell_type": "code",
   "execution_count": 7,
   "metadata": {},
   "outputs": [
    {
     "ename": "PermissionDeniedError",
     "evalue": "Error code: 403 - {'error': {'message': 'You are not allowed to generate embeddings from this model', 'type': 'invalid_request_error', 'param': None, 'code': None}}",
     "output_type": "error",
     "traceback": [
      "\u001b[31m---------------------------------------------------------------------------\u001b[39m",
      "\u001b[31mPermissionDeniedError\u001b[39m                     Traceback (most recent call last)",
      "\u001b[36mCell\u001b[39m\u001b[36m \u001b[39m\u001b[32mIn[7]\u001b[39m\u001b[32m, line 12\u001b[39m\n\u001b[32m      1\u001b[39m retriever = vstore.as_retriever(search_kwargs={\u001b[33m\"\u001b[39m\u001b[33mk\u001b[39m\u001b[33m\"\u001b[39m: \u001b[32m3\u001b[39m})\n\u001b[32m      3\u001b[39m excerpt=\u001b[33m\"\"\"\u001b[39m\n\u001b[32m      4\u001b[39m \u001b[33mIEC 62304:2006 defines in section 4.3 the software safety classes, based only on the consequence of a hazardous situation on the patient:\u001b[39m\n\u001b[32m      5\u001b[39m \n\u001b[32m   (...)\u001b[39m\u001b[32m      9\u001b[39m \u001b[33mAnother way of viewing this definition is to disregard the probability of risks linked to a software failure, and to focus only on the severity.\u001b[39m\n\u001b[32m     10\u001b[39m \u001b[33m\"\"\"\u001b[39m\n\u001b[32m---> \u001b[39m\u001b[32m12\u001b[39m retrieved_docs = \u001b[43mvstore\u001b[49m\u001b[43m.\u001b[49m\u001b[43msimilarity_search\u001b[49m\u001b[43m(\u001b[49m\u001b[43mexcerpt\u001b[49m\u001b[43m)\u001b[49m\n\u001b[32m     14\u001b[39m \u001b[38;5;28mprint\u001b[39m(retrieved_docs)\n\u001b[32m     16\u001b[39m quality_template = \u001b[33m\"\"\"\u001b[39m\n\u001b[32m     17\u001b[39m \u001b[33mYou are a software quality engineer currently reviewing medical device documentation and need to provide feedback on how well the documentation aligns with compliance standards. Use the provided context as to support your answers and do not make anything up.\u001b[39m\n\u001b[32m     18\u001b[39m \n\u001b[32m   (...)\u001b[39m\u001b[32m     23\u001b[39m \n\u001b[32m     24\u001b[39m \u001b[33mYOUR ANSWER:\u001b[39m\u001b[33m\"\"\"\u001b[39m\n",
      "\u001b[36mFile \u001b[39m\u001b[32mc:\\Users\\dsobc\\OneDrive\\Desktop\\github_projects\\venv_aiswre\\Lib\\site-packages\\langchain_core\\vectorstores\\in_memory.py:435\u001b[39m, in \u001b[36mInMemoryVectorStore.similarity_search\u001b[39m\u001b[34m(self, query, k, **kwargs)\u001b[39m\n\u001b[32m    432\u001b[39m \u001b[38;5;28;01mdef\u001b[39;00m\u001b[38;5;250m \u001b[39m\u001b[34msimilarity_search\u001b[39m(\n\u001b[32m    433\u001b[39m     \u001b[38;5;28mself\u001b[39m, query: \u001b[38;5;28mstr\u001b[39m, k: \u001b[38;5;28mint\u001b[39m = \u001b[32m4\u001b[39m, **kwargs: Any\n\u001b[32m    434\u001b[39m ) -> \u001b[38;5;28mlist\u001b[39m[Document]:\n\u001b[32m--> \u001b[39m\u001b[32m435\u001b[39m     \u001b[38;5;28;01mreturn\u001b[39;00m [doc \u001b[38;5;28;01mfor\u001b[39;00m doc, _ \u001b[38;5;129;01min\u001b[39;00m \u001b[38;5;28;43mself\u001b[39;49m\u001b[43m.\u001b[49m\u001b[43msimilarity_search_with_score\u001b[49m\u001b[43m(\u001b[49m\u001b[43mquery\u001b[49m\u001b[43m,\u001b[49m\u001b[43m \u001b[49m\u001b[43mk\u001b[49m\u001b[43m,\u001b[49m\u001b[43m \u001b[49m\u001b[43m*\u001b[49m\u001b[43m*\u001b[49m\u001b[43mkwargs\u001b[49m\u001b[43m)\u001b[49m]\n",
      "\u001b[36mFile \u001b[39m\u001b[32mc:\\Users\\dsobc\\OneDrive\\Desktop\\github_projects\\venv_aiswre\\Lib\\site-packages\\langchain_core\\vectorstores\\in_memory.py:395\u001b[39m, in \u001b[36mInMemoryVectorStore.similarity_search_with_score\u001b[39m\u001b[34m(self, query, k, **kwargs)\u001b[39m\n\u001b[32m    389\u001b[39m \u001b[38;5;28;01mdef\u001b[39;00m\u001b[38;5;250m \u001b[39m\u001b[34msimilarity_search_with_score\u001b[39m(\n\u001b[32m    390\u001b[39m     \u001b[38;5;28mself\u001b[39m,\n\u001b[32m    391\u001b[39m     query: \u001b[38;5;28mstr\u001b[39m,\n\u001b[32m    392\u001b[39m     k: \u001b[38;5;28mint\u001b[39m = \u001b[32m4\u001b[39m,\n\u001b[32m    393\u001b[39m     **kwargs: Any,\n\u001b[32m    394\u001b[39m ) -> \u001b[38;5;28mlist\u001b[39m[\u001b[38;5;28mtuple\u001b[39m[Document, \u001b[38;5;28mfloat\u001b[39m]]:\n\u001b[32m--> \u001b[39m\u001b[32m395\u001b[39m     embedding = \u001b[38;5;28;43mself\u001b[39;49m\u001b[43m.\u001b[49m\u001b[43membedding\u001b[49m\u001b[43m.\u001b[49m\u001b[43membed_query\u001b[49m\u001b[43m(\u001b[49m\u001b[43mquery\u001b[49m\u001b[43m)\u001b[49m\n\u001b[32m    396\u001b[39m     docs = \u001b[38;5;28mself\u001b[39m.similarity_search_with_score_by_vector(\n\u001b[32m    397\u001b[39m         embedding,\n\u001b[32m    398\u001b[39m         k,\n\u001b[32m    399\u001b[39m         **kwargs,\n\u001b[32m    400\u001b[39m     )\n\u001b[32m    401\u001b[39m     \u001b[38;5;28;01mreturn\u001b[39;00m docs\n",
      "\u001b[36mFile \u001b[39m\u001b[32mc:\\Users\\dsobc\\OneDrive\\Desktop\\github_projects\\venv_aiswre\\Lib\\site-packages\\langchain_openai\\embeddings\\base.py:629\u001b[39m, in \u001b[36mOpenAIEmbeddings.embed_query\u001b[39m\u001b[34m(self, text)\u001b[39m\n\u001b[32m    620\u001b[39m \u001b[38;5;28;01mdef\u001b[39;00m\u001b[38;5;250m \u001b[39m\u001b[34membed_query\u001b[39m(\u001b[38;5;28mself\u001b[39m, text: \u001b[38;5;28mstr\u001b[39m) -> List[\u001b[38;5;28mfloat\u001b[39m]:\n\u001b[32m    621\u001b[39m \u001b[38;5;250m    \u001b[39m\u001b[33;03m\"\"\"Call out to OpenAI's embedding endpoint for embedding query text.\u001b[39;00m\n\u001b[32m    622\u001b[39m \n\u001b[32m    623\u001b[39m \u001b[33;03m    Args:\u001b[39;00m\n\u001b[32m   (...)\u001b[39m\u001b[32m    627\u001b[39m \u001b[33;03m        Embedding for the text.\u001b[39;00m\n\u001b[32m    628\u001b[39m \u001b[33;03m    \"\"\"\u001b[39;00m\n\u001b[32m--> \u001b[39m\u001b[32m629\u001b[39m     \u001b[38;5;28;01mreturn\u001b[39;00m \u001b[38;5;28;43mself\u001b[39;49m\u001b[43m.\u001b[49m\u001b[43membed_documents\u001b[49m\u001b[43m(\u001b[49m\u001b[43m[\u001b[49m\u001b[43mtext\u001b[49m\u001b[43m]\u001b[49m\u001b[43m)\u001b[49m[\u001b[32m0\u001b[39m]\n",
      "\u001b[36mFile \u001b[39m\u001b[32mc:\\Users\\dsobc\\OneDrive\\Desktop\\github_projects\\venv_aiswre\\Lib\\site-packages\\langchain_openai\\embeddings\\base.py:588\u001b[39m, in \u001b[36mOpenAIEmbeddings.embed_documents\u001b[39m\u001b[34m(self, texts, chunk_size)\u001b[39m\n\u001b[32m    585\u001b[39m \u001b[38;5;66;03m# NOTE: to keep things simple, we assume the list may contain texts longer\u001b[39;00m\n\u001b[32m    586\u001b[39m \u001b[38;5;66;03m#       than the maximum context and use length-safe embedding function.\u001b[39;00m\n\u001b[32m    587\u001b[39m engine = cast(\u001b[38;5;28mstr\u001b[39m, \u001b[38;5;28mself\u001b[39m.deployment)\n\u001b[32m--> \u001b[39m\u001b[32m588\u001b[39m \u001b[38;5;28;01mreturn\u001b[39;00m \u001b[38;5;28;43mself\u001b[39;49m\u001b[43m.\u001b[49m\u001b[43m_get_len_safe_embeddings\u001b[49m\u001b[43m(\u001b[49m\u001b[43mtexts\u001b[49m\u001b[43m,\u001b[49m\u001b[43m \u001b[49m\u001b[43mengine\u001b[49m\u001b[43m=\u001b[49m\u001b[43mengine\u001b[49m\u001b[43m)\u001b[49m\n",
      "\u001b[36mFile \u001b[39m\u001b[32mc:\\Users\\dsobc\\OneDrive\\Desktop\\github_projects\\venv_aiswre\\Lib\\site-packages\\langchain_openai\\embeddings\\base.py:483\u001b[39m, in \u001b[36mOpenAIEmbeddings._get_len_safe_embeddings\u001b[39m\u001b[34m(self, texts, engine, chunk_size)\u001b[39m\n\u001b[32m    481\u001b[39m batched_embeddings: List[List[\u001b[38;5;28mfloat\u001b[39m]] = []\n\u001b[32m    482\u001b[39m \u001b[38;5;28;01mfor\u001b[39;00m i \u001b[38;5;129;01min\u001b[39;00m _iter:\n\u001b[32m--> \u001b[39m\u001b[32m483\u001b[39m     response = \u001b[38;5;28;43mself\u001b[39;49m\u001b[43m.\u001b[49m\u001b[43mclient\u001b[49m\u001b[43m.\u001b[49m\u001b[43mcreate\u001b[49m\u001b[43m(\u001b[49m\n\u001b[32m    484\u001b[39m \u001b[43m        \u001b[49m\u001b[38;5;28;43minput\u001b[39;49m\u001b[43m=\u001b[49m\u001b[43mtokens\u001b[49m\u001b[43m[\u001b[49m\u001b[43mi\u001b[49m\u001b[43m \u001b[49m\u001b[43m:\u001b[49m\u001b[43m \u001b[49m\u001b[43mi\u001b[49m\u001b[43m \u001b[49m\u001b[43m+\u001b[49m\u001b[43m \u001b[49m\u001b[43m_chunk_size\u001b[49m\u001b[43m]\u001b[49m\u001b[43m,\u001b[49m\u001b[43m \u001b[49m\u001b[43m*\u001b[49m\u001b[43m*\u001b[49m\u001b[38;5;28;43mself\u001b[39;49m\u001b[43m.\u001b[49m\u001b[43m_invocation_params\u001b[49m\n\u001b[32m    485\u001b[39m \u001b[43m    \u001b[49m\u001b[43m)\u001b[49m\n\u001b[32m    486\u001b[39m     \u001b[38;5;28;01mif\u001b[39;00m \u001b[38;5;129;01mnot\u001b[39;00m \u001b[38;5;28misinstance\u001b[39m(response, \u001b[38;5;28mdict\u001b[39m):\n\u001b[32m    487\u001b[39m         response = response.model_dump()\n",
      "\u001b[36mFile \u001b[39m\u001b[32mc:\\Users\\dsobc\\OneDrive\\Desktop\\github_projects\\venv_aiswre\\Lib\\site-packages\\openai\\resources\\embeddings.py:128\u001b[39m, in \u001b[36mEmbeddings.create\u001b[39m\u001b[34m(self, input, model, dimensions, encoding_format, user, extra_headers, extra_query, extra_body, timeout)\u001b[39m\n\u001b[32m    122\u001b[39m             embedding.embedding = np.frombuffer(  \u001b[38;5;66;03m# type: ignore[no-untyped-call]\u001b[39;00m\n\u001b[32m    123\u001b[39m                 base64.b64decode(data), dtype=\u001b[33m\"\u001b[39m\u001b[33mfloat32\u001b[39m\u001b[33m\"\u001b[39m\n\u001b[32m    124\u001b[39m             ).tolist()\n\u001b[32m    126\u001b[39m     \u001b[38;5;28;01mreturn\u001b[39;00m obj\n\u001b[32m--> \u001b[39m\u001b[32m128\u001b[39m \u001b[38;5;28;01mreturn\u001b[39;00m \u001b[38;5;28;43mself\u001b[39;49m\u001b[43m.\u001b[49m\u001b[43m_post\u001b[49m\u001b[43m(\u001b[49m\n\u001b[32m    129\u001b[39m \u001b[43m    \u001b[49m\u001b[33;43m\"\u001b[39;49m\u001b[33;43m/embeddings\u001b[39;49m\u001b[33;43m\"\u001b[39;49m\u001b[43m,\u001b[49m\n\u001b[32m    130\u001b[39m \u001b[43m    \u001b[49m\u001b[43mbody\u001b[49m\u001b[43m=\u001b[49m\u001b[43mmaybe_transform\u001b[49m\u001b[43m(\u001b[49m\u001b[43mparams\u001b[49m\u001b[43m,\u001b[49m\u001b[43m \u001b[49m\u001b[43membedding_create_params\u001b[49m\u001b[43m.\u001b[49m\u001b[43mEmbeddingCreateParams\u001b[49m\u001b[43m)\u001b[49m\u001b[43m,\u001b[49m\n\u001b[32m    131\u001b[39m \u001b[43m    \u001b[49m\u001b[43moptions\u001b[49m\u001b[43m=\u001b[49m\u001b[43mmake_request_options\u001b[49m\u001b[43m(\u001b[49m\n\u001b[32m    132\u001b[39m \u001b[43m        \u001b[49m\u001b[43mextra_headers\u001b[49m\u001b[43m=\u001b[49m\u001b[43mextra_headers\u001b[49m\u001b[43m,\u001b[49m\n\u001b[32m    133\u001b[39m \u001b[43m        \u001b[49m\u001b[43mextra_query\u001b[49m\u001b[43m=\u001b[49m\u001b[43mextra_query\u001b[49m\u001b[43m,\u001b[49m\n\u001b[32m    134\u001b[39m \u001b[43m        \u001b[49m\u001b[43mextra_body\u001b[49m\u001b[43m=\u001b[49m\u001b[43mextra_body\u001b[49m\u001b[43m,\u001b[49m\n\u001b[32m    135\u001b[39m \u001b[43m        \u001b[49m\u001b[43mtimeout\u001b[49m\u001b[43m=\u001b[49m\u001b[43mtimeout\u001b[49m\u001b[43m,\u001b[49m\n\u001b[32m    136\u001b[39m \u001b[43m        \u001b[49m\u001b[43mpost_parser\u001b[49m\u001b[43m=\u001b[49m\u001b[43mparser\u001b[49m\u001b[43m,\u001b[49m\n\u001b[32m    137\u001b[39m \u001b[43m    \u001b[49m\u001b[43m)\u001b[49m\u001b[43m,\u001b[49m\n\u001b[32m    138\u001b[39m \u001b[43m    \u001b[49m\u001b[43mcast_to\u001b[49m\u001b[43m=\u001b[49m\u001b[43mCreateEmbeddingResponse\u001b[49m\u001b[43m,\u001b[49m\n\u001b[32m    139\u001b[39m \u001b[43m\u001b[49m\u001b[43m)\u001b[49m\n",
      "\u001b[36mFile \u001b[39m\u001b[32mc:\\Users\\dsobc\\OneDrive\\Desktop\\github_projects\\venv_aiswre\\Lib\\site-packages\\openai\\_base_client.py:1242\u001b[39m, in \u001b[36mSyncAPIClient.post\u001b[39m\u001b[34m(self, path, cast_to, body, options, files, stream, stream_cls)\u001b[39m\n\u001b[32m   1228\u001b[39m \u001b[38;5;28;01mdef\u001b[39;00m\u001b[38;5;250m \u001b[39m\u001b[34mpost\u001b[39m(\n\u001b[32m   1229\u001b[39m     \u001b[38;5;28mself\u001b[39m,\n\u001b[32m   1230\u001b[39m     path: \u001b[38;5;28mstr\u001b[39m,\n\u001b[32m   (...)\u001b[39m\u001b[32m   1237\u001b[39m     stream_cls: \u001b[38;5;28mtype\u001b[39m[_StreamT] | \u001b[38;5;28;01mNone\u001b[39;00m = \u001b[38;5;28;01mNone\u001b[39;00m,\n\u001b[32m   1238\u001b[39m ) -> ResponseT | _StreamT:\n\u001b[32m   1239\u001b[39m     opts = FinalRequestOptions.construct(\n\u001b[32m   1240\u001b[39m         method=\u001b[33m\"\u001b[39m\u001b[33mpost\u001b[39m\u001b[33m\"\u001b[39m, url=path, json_data=body, files=to_httpx_files(files), **options\n\u001b[32m   1241\u001b[39m     )\n\u001b[32m-> \u001b[39m\u001b[32m1242\u001b[39m     \u001b[38;5;28;01mreturn\u001b[39;00m cast(ResponseT, \u001b[38;5;28;43mself\u001b[39;49m\u001b[43m.\u001b[49m\u001b[43mrequest\u001b[49m\u001b[43m(\u001b[49m\u001b[43mcast_to\u001b[49m\u001b[43m,\u001b[49m\u001b[43m \u001b[49m\u001b[43mopts\u001b[49m\u001b[43m,\u001b[49m\u001b[43m \u001b[49m\u001b[43mstream\u001b[49m\u001b[43m=\u001b[49m\u001b[43mstream\u001b[49m\u001b[43m,\u001b[49m\u001b[43m \u001b[49m\u001b[43mstream_cls\u001b[49m\u001b[43m=\u001b[49m\u001b[43mstream_cls\u001b[49m\u001b[43m)\u001b[49m)\n",
      "\u001b[36mFile \u001b[39m\u001b[32mc:\\Users\\dsobc\\OneDrive\\Desktop\\github_projects\\venv_aiswre\\Lib\\site-packages\\openai\\_base_client.py:919\u001b[39m, in \u001b[36mSyncAPIClient.request\u001b[39m\u001b[34m(self, cast_to, options, remaining_retries, stream, stream_cls)\u001b[39m\n\u001b[32m    916\u001b[39m \u001b[38;5;28;01melse\u001b[39;00m:\n\u001b[32m    917\u001b[39m     retries_taken = \u001b[32m0\u001b[39m\n\u001b[32m--> \u001b[39m\u001b[32m919\u001b[39m \u001b[38;5;28;01mreturn\u001b[39;00m \u001b[38;5;28;43mself\u001b[39;49m\u001b[43m.\u001b[49m\u001b[43m_request\u001b[49m\u001b[43m(\u001b[49m\n\u001b[32m    920\u001b[39m \u001b[43m    \u001b[49m\u001b[43mcast_to\u001b[49m\u001b[43m=\u001b[49m\u001b[43mcast_to\u001b[49m\u001b[43m,\u001b[49m\n\u001b[32m    921\u001b[39m \u001b[43m    \u001b[49m\u001b[43moptions\u001b[49m\u001b[43m=\u001b[49m\u001b[43moptions\u001b[49m\u001b[43m,\u001b[49m\n\u001b[32m    922\u001b[39m \u001b[43m    \u001b[49m\u001b[43mstream\u001b[49m\u001b[43m=\u001b[49m\u001b[43mstream\u001b[49m\u001b[43m,\u001b[49m\n\u001b[32m    923\u001b[39m \u001b[43m    \u001b[49m\u001b[43mstream_cls\u001b[49m\u001b[43m=\u001b[49m\u001b[43mstream_cls\u001b[49m\u001b[43m,\u001b[49m\n\u001b[32m    924\u001b[39m \u001b[43m    \u001b[49m\u001b[43mretries_taken\u001b[49m\u001b[43m=\u001b[49m\u001b[43mretries_taken\u001b[49m\u001b[43m,\u001b[49m\n\u001b[32m    925\u001b[39m \u001b[43m\u001b[49m\u001b[43m)\u001b[49m\n",
      "\u001b[36mFile \u001b[39m\u001b[32mc:\\Users\\dsobc\\OneDrive\\Desktop\\github_projects\\venv_aiswre\\Lib\\site-packages\\openai\\_base_client.py:1023\u001b[39m, in \u001b[36mSyncAPIClient._request\u001b[39m\u001b[34m(self, cast_to, options, retries_taken, stream, stream_cls)\u001b[39m\n\u001b[32m   1020\u001b[39m         err.response.read()\n\u001b[32m   1022\u001b[39m     log.debug(\u001b[33m\"\u001b[39m\u001b[33mRe-raising status error\u001b[39m\u001b[33m\"\u001b[39m)\n\u001b[32m-> \u001b[39m\u001b[32m1023\u001b[39m     \u001b[38;5;28;01mraise\u001b[39;00m \u001b[38;5;28mself\u001b[39m._make_status_error_from_response(err.response) \u001b[38;5;28;01mfrom\u001b[39;00m\u001b[38;5;250m \u001b[39m\u001b[38;5;28;01mNone\u001b[39;00m\n\u001b[32m   1025\u001b[39m \u001b[38;5;28;01mreturn\u001b[39;00m \u001b[38;5;28mself\u001b[39m._process_response(\n\u001b[32m   1026\u001b[39m     cast_to=cast_to,\n\u001b[32m   1027\u001b[39m     options=options,\n\u001b[32m   (...)\u001b[39m\u001b[32m   1031\u001b[39m     retries_taken=retries_taken,\n\u001b[32m   1032\u001b[39m )\n",
      "\u001b[31mPermissionDeniedError\u001b[39m: Error code: 403 - {'error': {'message': 'You are not allowed to generate embeddings from this model', 'type': 'invalid_request_error', 'param': None, 'code': None}}"
     ]
    }
   ],
   "source": [
    "retriever = vstore.as_retriever(search_kwargs={\"k\": 3})\n",
    "\n",
    "excerpt=\"\"\"\n",
    "IEC 62304:2006 defines in section 4.3 the software safety classes, based only on the consequence of a hazardous situation on the patient:\n",
    "\n",
    "Class A: No injury or damage to health is possible\n",
    "Class B: Non-SERIOUS INJURY is possible\n",
    "Class C: Death or SERIOUS INJURY is possible\n",
    "Another way of viewing this definition is to disregard the probability of risks linked to a software failure, and to focus only on the severity.\n",
    "\"\"\"\n",
    "\n",
    "retrieved_docs = vstore.similarity_search(excerpt)\n",
    "\n",
    "print(retrieved_docs)\n",
    "\n",
    "quality_template = \"\"\"\n",
    "You are a software quality engineer currently reviewing medical device documentation and need to provide feedback on how well the documentation aligns with compliance standards. Use the provided context as to support your answers and do not make anything up.\n",
    "\n",
    "CONTEXT:\n",
    "{context}\n",
    "\n",
    "QUESTION: {question}\n",
    "\n",
    "YOUR ANSWER:\"\"\"\n",
    "\n",
    "quality_prompt = ChatPromptTemplate.from_template(quality_template)\n",
    "\n",
    "chain = (\n",
    "    {\"context\": retriever, \"question\": RunnablePassthrough()}\n",
    "    | quality_prompt\n",
    "    | client\n",
    "    | StrOutputParser()\n",
    ")\n",
    "\n",
    "q=\"\"\"\n",
    "What is the recommended approach to assigning a Software Safety Classification?  \n",
    "\"\"\"\n",
    "result = chain.invoke(q)\n",
    "print(result)"
   ]
  },
  {
   "cell_type": "code",
   "execution_count": 5,
   "metadata": {},
   "outputs": [
    {
     "name": "stdout",
     "output_type": "stream",
     "text": [
      "Per 21CFR803.3(k), the term \"intended performance of a device\" means the intended use for which the device is labeled or marketed. It is recommended you add this into your Medical Device Reporting Vigilance process documentation.\n"
     ]
    }
   ],
   "source": [
    "cfr_template = \"\"\"\n",
    "Generate a statement in the format as given by the provided example\n",
    "\n",
    "## Examples\n",
    "---\n",
    "{examples}\n",
    "Reference: {reference}\n",
    "Question: {question}\n",
    "Statement:\n",
    "\"\"\"\n",
    "\n",
    "cfr_prompt = ChatPromptTemplate.from_template(cfr_template)\n",
    "\n",
    "chain = (\n",
    "    cfr_prompt\n",
    "    | client\n",
    "    | StrOutputParser()\n",
    ")\n",
    "\n",
    "examples = \"\"\"\n",
    "Reference: 21CFR803.3(b)\n",
    "Question: Does the Reportable Events process list the definition of the term \"become aware\" as that \"an employee of the entity required to report has acquired information that reasonably suggests a reportable adverse event has occurred\"?  Answer must be Yes or No only.\n",
    "Statement: Per 21CFR803.3(b), the term \"become aware\" means \"an employee of the entity required to report has acquired information that reasonably suggests a reportable adverse event has occurred\". It is recommended you add this into your Medical Device Reporting Vigilance process documentation.\n",
    "\n",
    "Reference: 21CFR803.3(b)\n",
    "Question: Does the Reportable Events process list the definition of the term \"caused or contributed to\" that \"a death or serious injury was or may have been attributed to a medical device, or that a medical device was or may have been a factor in a death or serious injury, including events occurring as a result of:  Failure, Malfunction, Improper or inadequate design, Manufacture, Labeling, or User error\"?  Answer must be Yes or No only.\n",
    "Statement: Per 21CFR803.3(b), the term \"become aware\" means \"an employee of the entity required to report has acquired information that reasonably suggests a reportable adverse event has occurred\". It is recommended you add this into your Medical Device Reporting Vigilance process documentation.\n",
    "\n",
    "Reference: 21CFR803.3(k)\n",
    "Question: Does the Reportable Events process list the definition of the term \"malfunction\" as \"the failure of a device to meet its performance specifications or otherwise perform as intended\"? Answer must be Yes or No only.\n",
    "Statement: Per 21CFR803.3(k), the term \"malfunction\" means \"the failure of a device to meet its performance specifications or otherwise perform as intended\". It is recommended you add this into your Medical Device Reporting Vigilance process documentation.\n",
    "\n",
    "Reference: 21CFR803.17 & 21CFR803.50(3)\n",
    "Question: Does the Reportable Events procedure list the notification of events that may be subject to Medical Device Report (MDR) requirements? Answer must be Yes or No only.\n",
    "Statement: Per 21CFR803.17 & 21CFR803.50(3), notification of events that may be subject to Medical Device Report (MDR) requirements are required. It is recommended you add this into your Medical Device Reporting Vigilance process documentation. \n",
    "\"\"\"\n",
    "\n",
    "reference= \"21CFR803.3(k)\"\n",
    "question= \"Does the Reportable Events process list the term \\\"intended performance of a device\\\" as the intended use for which the device is labeled or marketed? Answer must be Yes or No only.\"\n",
    "\n",
    "result = chain.invoke({\"examples\": examples, \"reference\": reference, \"question\": question})\n",
    "print(result)"
   ]
  },
  {
   "cell_type": "code",
   "execution_count": 6,
   "metadata": {},
   "outputs": [],
   "source": [
    "# load filtered question list dataframe\n",
    "df = pd.read_excel(\"./aiswre/data/djs_question_list_30mar25.xlsx\")\n",
    "df_filt = df[['Question ID', 'Question (for LLM Model Input)','Recommended Action (App \\'Learn more\\' textbox popup)']]"
   ]
  },
  {
   "cell_type": "code",
   "execution_count": 7,
   "metadata": {},
   "outputs": [
    {
     "name": "stderr",
     "output_type": "stream",
     "text": [
      "C:\\Users\\dsobc\\AppData\\Local\\Temp\\ipykernel_34224\\1866245062.py:1: SettingWithCopyWarning: \n",
      "A value is trying to be set on a copy of a slice from a DataFrame\n",
      "\n",
      "See the caveats in the documentation: https://pandas.pydata.org/pandas-docs/stable/user_guide/indexing.html#returning-a-view-versus-a-copy\n",
      "  df_filt.dropna(subset=['Recommended Action (App \\'Learn more\\' textbox popup)'], inplace=True)\n"
     ]
    }
   ],
   "source": [
    "df_filt.dropna(subset=['Recommended Action (App \\'Learn more\\' textbox popup)'], inplace=True)"
   ]
  },
  {
   "cell_type": "code",
   "execution_count": 8,
   "metadata": {},
   "outputs": [
    {
     "name": "stdout",
     "output_type": "stream",
     "text": [
      "<class 'pandas.core.frame.DataFrame'>\n",
      "Index: 127 entries, 1 to 142\n",
      "Data columns (total 3 columns):\n",
      " #   Column                                               Non-Null Count  Dtype \n",
      "---  ------                                               --------------  ----- \n",
      " 0   Question ID                                          127 non-null    object\n",
      " 1   Question (for LLM Model Input)                       127 non-null    object\n",
      " 2   Recommended Action (App 'Learn more' textbox popup)  127 non-null    object\n",
      "dtypes: object(3)\n",
      "memory usage: 4.0+ KB\n"
     ]
    }
   ],
   "source": [
    "df_filt.info()"
   ]
  },
  {
   "cell_type": "code",
   "execution_count": null,
   "metadata": {},
   "outputs": [],
   "source": [
    "#mask = (((df_filt['Recommended Action (App \\'Learn more\\' textbox popup)'].str.startswith('21C'))) | ((df_filt['Recommended Action (App \\'Learn more\\' textbox popup)'].str.startswith('CMDR')))\n",
    "#        | ((df_filt['Recommended Action (App \\'Learn more\\' textbox popup)'].str.startswith('Medical Device Reporting'))))\n",
    "#df_filt = df_filt[mask]"
   ]
  },
  {
   "cell_type": "code",
   "execution_count": 9,
   "metadata": {},
   "outputs": [
    {
     "name": "stderr",
     "output_type": "stream",
     "text": [
      "C:\\Users\\dsobc\\AppData\\Local\\Temp\\ipykernel_34224\\1491996203.py:1: SettingWithCopyWarning: \n",
      "A value is trying to be set on a copy of a slice from a DataFrame.\n",
      "Try using .loc[row_indexer,col_indexer] = value instead\n",
      "\n",
      "See the caveats in the documentation: https://pandas.pydata.org/pandas-docs/stable/user_guide/indexing.html#returning-a-view-versus-a-copy\n",
      "  df_filt['reference'] = df_filt['Recommended Action (App \\'Learn more\\' textbox popup)'].apply(lambda s: re.search(r\"[^ ]+\",s).group(0))\n"
     ]
    }
   ],
   "source": [
    "df_filt['reference'] = df_filt['Recommended Action (App \\'Learn more\\' textbox popup)'].apply(lambda s: re.search(r\"[^ ]+\",s).group(0))"
   ]
  },
  {
   "cell_type": "code",
   "execution_count": 10,
   "metadata": {},
   "outputs": [
    {
     "name": "stderr",
     "output_type": "stream",
     "text": [
      "C:\\Users\\dsobc\\AppData\\Local\\Temp\\ipykernel_34224\\2989318397.py:1: SettingWithCopyWarning: \n",
      "A value is trying to be set on a copy of a slice from a DataFrame.\n",
      "Try using .loc[row_indexer,col_indexer] = value instead\n",
      "\n",
      "See the caveats in the documentation: https://pandas.pydata.org/pandas-docs/stable/user_guide/indexing.html#returning-a-view-versus-a-copy\n",
      "  df_filt['reference_concat'] = df_filt['reference'].apply(lambda s: ' & '.join(s.split(\"\\n\")))\n"
     ]
    }
   ],
   "source": [
    "df_filt['reference_concat'] = df_filt['reference'].apply(lambda s: ' & '.join(s.split(\"\\n\")))"
   ]
  },
  {
   "cell_type": "code",
   "execution_count": 11,
   "metadata": {},
   "outputs": [
    {
     "data": {
      "text/html": [
       "<div>\n",
       "<style scoped>\n",
       "    .dataframe tbody tr th:only-of-type {\n",
       "        vertical-align: middle;\n",
       "    }\n",
       "\n",
       "    .dataframe tbody tr th {\n",
       "        vertical-align: top;\n",
       "    }\n",
       "\n",
       "    .dataframe thead th {\n",
       "        text-align: right;\n",
       "    }\n",
       "</style>\n",
       "<table border=\"1\" class=\"dataframe\">\n",
       "  <thead>\n",
       "    <tr style=\"text-align: right;\">\n",
       "      <th></th>\n",
       "      <th>Question ID</th>\n",
       "      <th>Question (for LLM Model Input)</th>\n",
       "      <th>Recommended Action (App 'Learn more' textbox popup)</th>\n",
       "      <th>reference</th>\n",
       "      <th>reference_concat</th>\n",
       "    </tr>\n",
       "  </thead>\n",
       "  <tbody>\n",
       "    <tr>\n",
       "      <th>1</th>\n",
       "      <td>Vigilance3</td>\n",
       "      <td>Does the Quality Manual reference an Medical D...</td>\n",
       "      <td>Per ISO 13485 &amp; FDA, the Quality Manual needs ...</td>\n",
       "      <td>Per</td>\n",
       "      <td>Per</td>\n",
       "    </tr>\n",
       "    <tr>\n",
       "      <th>2</th>\n",
       "      <td>Vigilance4</td>\n",
       "      <td>Is there a procedure that establishes the requ...</td>\n",
       "      <td>Per ISO 13485 &amp; FDA, there must be a Reportabl...</td>\n",
       "      <td>Per</td>\n",
       "      <td>Per</td>\n",
       "    </tr>\n",
       "    <tr>\n",
       "      <th>3</th>\n",
       "      <td>Vigilance5</td>\n",
       "      <td>Does the Reportable Events procedure list the ...</td>\n",
       "      <td>ISO 13485 requires FDA notification of complai...</td>\n",
       "      <td>ISO</td>\n",
       "      <td>ISO</td>\n",
       "    </tr>\n",
       "    <tr>\n",
       "      <th>4</th>\n",
       "      <td>Vigilance6</td>\n",
       "      <td>Does the Reportable Events procedure list the ...</td>\n",
       "      <td>21CFR803.17 requires identification of events ...</td>\n",
       "      <td>21CFR803.17</td>\n",
       "      <td>21CFR803.17</td>\n",
       "    </tr>\n",
       "    <tr>\n",
       "      <th>5</th>\n",
       "      <td>Vigilance7</td>\n",
       "      <td>Does the Reportable Events procedure list the ...</td>\n",
       "      <td>21CFR803.17 requires communication of events t...</td>\n",
       "      <td>21CFR803.17</td>\n",
       "      <td>21CFR803.17</td>\n",
       "    </tr>\n",
       "  </tbody>\n",
       "</table>\n",
       "</div>"
      ],
      "text/plain": [
       "  Question ID                     Question (for LLM Model Input)  \\\n",
       "1  Vigilance3  Does the Quality Manual reference an Medical D...   \n",
       "2  Vigilance4  Is there a procedure that establishes the requ...   \n",
       "3  Vigilance5  Does the Reportable Events procedure list the ...   \n",
       "4  Vigilance6  Does the Reportable Events procedure list the ...   \n",
       "5  Vigilance7  Does the Reportable Events procedure list the ...   \n",
       "\n",
       "  Recommended Action (App 'Learn more' textbox popup)    reference  \\\n",
       "1  Per ISO 13485 & FDA, the Quality Manual needs ...           Per   \n",
       "2  Per ISO 13485 & FDA, there must be a Reportabl...           Per   \n",
       "3  ISO 13485 requires FDA notification of complai...           ISO   \n",
       "4  21CFR803.17 requires identification of events ...   21CFR803.17   \n",
       "5  21CFR803.17 requires communication of events t...   21CFR803.17   \n",
       "\n",
       "  reference_concat  \n",
       "1              Per  \n",
       "2              Per  \n",
       "3              ISO  \n",
       "4      21CFR803.17  \n",
       "5      21CFR803.17  "
      ]
     },
     "execution_count": 11,
     "metadata": {},
     "output_type": "execute_result"
    }
   ],
   "source": [
    "df_filt.head(5)"
   ]
  },
  {
   "cell_type": "code",
   "execution_count": 12,
   "metadata": {},
   "outputs": [
    {
     "data": {
      "text/plain": [
       "14                                            According\n",
       "92                                                 CMDR\n",
       "28    21CFR803.10('c)(2)(i) & 21CFR803.20.(b)(3)(iii...\n",
       "Name: reference_concat, dtype: object"
      ]
     },
     "execution_count": 12,
     "metadata": {},
     "output_type": "execute_result"
    }
   ],
   "source": [
    "df_filt['reference_concat'].sample(3)"
   ]
  },
  {
   "cell_type": "code",
   "execution_count": 13,
   "metadata": {},
   "outputs": [],
   "source": [
    "cfr_template = \"\"\"\n",
    "Generate a statement in the format as given by the provided Examples\n",
    "\n",
    "## Examples\n",
    "---\n",
    "Reference: 21CFR803.3(b)\n",
    "Question: Does the Reportable Events process list the definition of the term \"become aware\" as that \"an employee of the entity required to report has acquired information that reasonably suggests a reportable adverse event has occurred\"?  Answer must be Yes or No only.\n",
    "Statement: Per 21CFR803.3(b), the term \"become aware\" means \"an employee of the entity required to report has acquired information that reasonably suggests a reportable adverse event has occurred\". It is recommended you add this into your Medical Device Reporting Vigilance process documentation.\n",
    "\n",
    "Reference: 21CFR803.3(b)\n",
    "Question: Does the Reportable Events process list the definition of the term \"caused or contributed to\" that \"a death or serious injury was or may have been attributed to a medical device, or that a medical device was or may have been a factor in a death or serious injury, including events occurring as a result of:  Failure, Malfunction, Improper or inadequate design, Manufacture, Labeling, or User error\"?  Answer must be Yes or No only.\n",
    "Statement: Per 21CFR803.3(b), the term \"become aware\" means \"an employee of the entity required to report has acquired information that reasonably suggests a reportable adverse event has occurred\". It is recommended you add this into your Medical Device Reporting Vigilance process documentation.\n",
    "\n",
    "Reference: 21CFR803.3(k)\n",
    "Question: Does the Reportable Events process list the definition of the term \"malfunction\" as \"the failure of a device to meet its performance specifications or otherwise perform as intended\"? Answer must be Yes or No only.\n",
    "Statement: Per 21CFR803.3(k), the term \"malfunction\" means \"the failure of a device to meet its performance specifications or otherwise perform as intended\". It is recommended you add this into your Medical Device Reporting Vigilance process documentation.\n",
    "\n",
    "Reference: 21CFR803.17 & 21CFR803.50(3)\n",
    "Question: Does the Reportable Events procedure list the notification of events that may be subject to Medical Device Report (MDR) requirements? Answer must be Yes or No only.\n",
    "Statement: Per 21CFR803.17 & 21CFR803.50(3), notification of events that may be subject to Medical Device Report (MDR) requirements are required. It is recommended you add this into your Medical Device Reporting Vigilance process documentation. \n",
    "\n",
    "Reference: {reference}\n",
    "Question: {question}\n",
    "Statement:\n",
    "\"\"\"\n",
    "\n",
    "cfr_prompt = ChatPromptTemplate.from_template(cfr_template)\n",
    "\n",
    "templates={\n",
    "    'cfr': {\n",
    "        'template': cfr_prompt\n",
    "    }\n",
    "}"
   ]
  },
  {
   "cell_type": "code",
   "execution_count": 14,
   "metadata": {},
   "outputs": [],
   "source": [
    "chain_contexts = []\n",
    "\n",
    "for index, row in df_filt.iterrows():\n",
    "\n",
    "    chain_contexts.append(\n",
    "        {\n",
    "            'reference': row['reference_concat'],\n",
    "            'question': row['Question (for LLM Model Input)']\n",
    "        }\n",
    "    )"
   ]
  },
  {
   "cell_type": "code",
   "execution_count": 15,
   "metadata": {},
   "outputs": [],
   "source": [
    "from aiswre.promptengg.promptrunner import ParallelPromptRunner"
   ]
  },
  {
   "cell_type": "code",
   "execution_count": 16,
   "metadata": {},
   "outputs": [],
   "source": [
    "pr = ParallelPromptRunner(\n",
    "    use_structured_llm=False,\n",
    "    llm=ChatOpenAI(api_key=secret_key, model='gpt-4o-mini'),\n",
    "    pydantic_model=False,\n",
    "    chain_contexts=chain_contexts,\n",
    "    num_trials=1\n",
    ")"
   ]
  },
  {
   "cell_type": "code",
   "execution_count": 17,
   "metadata": {},
   "outputs": [],
   "source": [
    "import nest_asyncio"
   ]
  },
  {
   "cell_type": "code",
   "execution_count": 18,
   "metadata": {},
   "outputs": [],
   "source": [
    "nest_asyncio.apply()"
   ]
  },
  {
   "cell_type": "code",
   "execution_count": 19,
   "metadata": {},
   "outputs": [
    {
     "name": "stdout",
     "output_type": "stream",
     "text": [
      "Awaiting results...\n",
      "Results fetched...\n"
     ]
    }
   ],
   "source": [
    "results = pr.run(\n",
    "    prompt_type='cfr',\n",
    "    templates=templates\n",
    ")"
   ]
  },
  {
   "cell_type": "code",
   "execution_count": 20,
   "metadata": {},
   "outputs": [
    {
     "data": {
      "text/plain": [
       "127"
      ]
     },
     "execution_count": 20,
     "metadata": {},
     "output_type": "execute_result"
    }
   ],
   "source": [
    "len(results)"
   ]
  },
  {
   "cell_type": "code",
   "execution_count": 21,
   "metadata": {},
   "outputs": [
    {
     "name": "stderr",
     "output_type": "stream",
     "text": [
      "C:\\Users\\dsobc\\AppData\\Local\\Temp\\ipykernel_34224\\1309307372.py:1: SettingWithCopyWarning: \n",
      "A value is trying to be set on a copy of a slice from a DataFrame.\n",
      "Try using .loc[row_indexer,col_indexer] = value instead\n",
      "\n",
      "See the caveats in the documentation: https://pandas.pydata.org/pandas-docs/stable/user_guide/indexing.html#returning-a-view-versus-a-copy\n",
      "  df_filt['generated_recommended_action'] = [r.content for r in results]\n"
     ]
    }
   ],
   "source": [
    "df_filt['generated_recommended_action'] = [r.content for r in results] "
   ]
  },
  {
   "cell_type": "code",
   "execution_count": 22,
   "metadata": {},
   "outputs": [],
   "source": [
    "df_filt.to_excel('./aiswre/data/djs-results-columnP-initial-task-6-apr.xlsx')"
   ]
  },
  {
   "cell_type": "code",
   "execution_count": null,
   "metadata": {},
   "outputs": [],
   "source": []
  },
  {
   "cell_type": "code",
   "execution_count": null,
   "metadata": {},
   "outputs": [],
   "source": []
  },
  {
   "cell_type": "code",
   "execution_count": null,
   "metadata": {},
   "outputs": [],
   "source": []
  }
 ],
 "metadata": {
  "kernelspec": {
   "display_name": "venv_aiswre",
   "language": "python",
   "name": "python3"
  },
  "language_info": {
   "codemirror_mode": {
    "name": "ipython",
    "version": 3
   },
   "file_extension": ".py",
   "mimetype": "text/x-python",
   "name": "python",
   "nbconvert_exporter": "python",
   "pygments_lexer": "ipython3",
   "version": "3.12.2"
  }
 },
 "nbformat": 4,
 "nbformat_minor": 2
}
