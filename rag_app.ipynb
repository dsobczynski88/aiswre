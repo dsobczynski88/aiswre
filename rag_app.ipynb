{
 "cells": [
  {
   "cell_type": "code",
   "execution_count": null,
   "metadata": {},
   "outputs": [],
   "source": [
    "import pandas as pd\n",
    "from langchain_core.prompts.chat import ChatPromptTemplate\n",
    "from langchain_core.output_parsers import StrOutputParser\n",
    "from langchain_community.document_loaders import PyPDFLoader\n",
    "from langchain_text_splitters import RecursiveCharacterTextSplitter\n",
    "from langchain_community.vectorstores import InMemoryVectorStore\n",
    "from langchain_ollama import ChatOllama, OllamaEmbeddings\n",
    "from langchain_core.runnables import (\n",
    "    RunnableLambda,\n",
    "    RunnableParallel,\n",
    "    RunnablePassthrough,\n",
    ")\n",
    "\n",
    "embeddings=OllamaEmbeddings(model='llama3.1')\n",
    "vstore = InMemoryVectorStore(embeddings)\n",
    "\n",
    "pdf_loader = PyPDFLoader(\"./aiswre/data/IEC_62304-2006.pdf\")\n",
    "splitter = RecursiveCharacterTextSplitter(chunk_size=512, chunk_overlap=64)\n",
    "docs_from_pdf = pdf_loader.load_and_split(text_splitter=splitter)\n",
    "\n",
    "print(f\"Documents from PDF: {len(docs_from_pdf)}.\")\n",
    "#print(docs_from_pdf[0])\n",
    "inserted_ids_from_pdf = vstore.add_documents(docs_from_pdf)\n",
    "print(f\"Inserted {len(inserted_ids_from_pdf)} documents.\")\n",
    "#print(inserted_ids_from_pdf[0])\n",
    "df = pd.DataFrame({\n",
    "    'inserted_id': [i for i in inserted_ids_from_pdf],\n",
    "    'chunk':[d.page_content for d in docs_from_pdf]\n",
    "})\n",
    "df.head(5).to_excel(\"./aiswre/data/IEC_62304-2006_sample_chunks.xlsx\")\n",
    "\n",
    "retriever = vstore.as_retriever(search_kwargs={\"k\": 3})\n",
    "\n",
    "excerpt=\"\"\"\n",
    "IEC 62304:2006 defines in section 4.3 the software safety classes, based only on the consequence of a hazardous situation on the patient:\n",
    "\n",
    "Class A: No injury or damage to health is possible\n",
    "Class B: Non-SERIOUS INJURY is possible\n",
    "Class C: Death or SERIOUS INJURY is possible\n",
    "Another way of viewing this definition is to disregard the probability of risks linked to a software failure, and to focus only on the severity.\n",
    "\"\"\"\n",
    "\n",
    "retrieved_docs = vstore.similarity_search(excerpt)\n",
    "\n",
    "print(retreived_docs)"
   ]
  }
 ],
 "metadata": {
  "language_info": {
   "name": "python"
  }
 },
 "nbformat": 4,
 "nbformat_minor": 2
}
