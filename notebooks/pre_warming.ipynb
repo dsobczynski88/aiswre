{
 "cells": [
  {
   "cell_type": "markdown",
   "id": "6f607fa6",
   "metadata": {},
   "source": [
    "### Pre-warming LLMs on the INCOSE Guide to Writing Requirements\n",
    "\n",
    "The purpose of this notebook is to probe OpenAI's models on what it knows about the INCOSE Guide to Writing Requirements. The intent is to set a baseline on how the model performs out-of-the-box against some standard evaluation criteria."
   ]
  },
  {
   "cell_type": "code",
   "execution_count": 8,
   "id": "821f1de5",
   "metadata": {},
   "outputs": [],
   "source": [
    "from typing import Union, List, Dict\n",
    "from pathlib import Path\n",
    "from dotenv import dotenv_values\n",
    "import asyncio\n",
    "from pydantic import BaseModel, SecretStr, Field\n",
    "from openai import OpenAI\n",
    "import src\n",
    "from src.components.promptrunner import ResponseClient\n",
    "from src.prj_logger import ProjectLogger, get_logs\n",
    "from src import utils"
   ]
  },
  {
   "cell_type": "code",
   "execution_count": 9,
   "id": "086e0958",
   "metadata": {},
   "outputs": [
    {
     "data": {
      "text/plain": [
       "<src.prj_logger.ProjectLogger at 0x238a2fe0890>"
      ]
     },
     "execution_count": 9,
     "metadata": {},
     "output_type": "execute_result"
    }
   ],
   "source": [
    "# Load config settings\n",
    "DOT_ENV = dotenv_values(\"../.env\")\n",
    "openai_api_key = str(DOT_ENV['OPENAI_API_KEY'])\n",
    "openai_api_key_secret = SecretStr(openai_api_key)\n",
    "config = utils.load_config(\"../config.yaml\")\n",
    "\n",
    "# Create a unique run-id folder to store outputs\n",
    "config[\"FILE_LOCATIONS\"][\"MAIN_DATA_FOLDER\"] = \"../src/data\"\n",
    "output_directory = utils.make_output_directory(config[\"FILE_LOCATIONS\"])\n",
    "\n",
    "# Instantiate logger\n",
    "logger = ProjectLogger(\n",
    "    name=src.BASE_LOGGERNAME,\n",
    "    log_file=f\"{output_directory}/{src.BASE_LOGGERNAME}.log\"\n",
    ")\n",
    "logger.config()"
   ]
  },
  {
   "cell_type": "code",
   "execution_count": 10,
   "id": "6e546d13",
   "metadata": {},
   "outputs": [],
   "source": [
    "# Define model type\n",
    "MODEL = \"gpt-5\""
   ]
  },
  {
   "cell_type": "code",
   "execution_count": 11,
   "id": "5fd9b3cd",
   "metadata": {},
   "outputs": [],
   "source": [
    "# Create OpenAI instance\n",
    "client = OpenAI(\n",
    "    # Replace with your actual API key or use: api_key=os.environ.get(\"OPENAI_API_KEY\")\n",
    "    api_key=openai_api_key_secret.get_secret_value()\n",
    ")"
   ]
  },
  {
   "cell_type": "markdown",
   "id": "db9a2ed4",
   "metadata": {},
   "source": [
    "#### Pre-warming"
   ]
  },
  {
   "cell_type": "code",
   "execution_count": 12,
   "id": "4567fc37",
   "metadata": {},
   "outputs": [],
   "source": [
    "resp_client = ResponseClient(client, MODEL)"
   ]
  },
  {
   "cell_type": "code",
   "execution_count": 13,
   "id": "21590e0b",
   "metadata": {},
   "outputs": [
    {
     "name": "stdout",
     "output_type": "stream",
     "text": [
      "Printing `response.output_text`:\n",
      "\n",
      " The INCOSE Guide to Writing Requirements is a practical handbook from the International Council on Systems Engineering (INCOSE) that explains how to write clear, testable, and consistent requirements. It complements the ISO/IEC/IEEE 29148 standard by turning its principles into concrete rules, examples, and checklists. It’s used across industries (aerospace, defense, automotive, medical, IT) by authors, reviewers, and managers.\n",
      "\n",
      "What the guide covers\n",
      "- Purpose and scope: How to craft individual requirements and sets of requirements so they are understandable, implementable, and verifiable.\n",
      "- Roles: Guidance for authors, reviewers, approvers; how to structure reviews and quality checks.\n",
      "- Patterns and examples: Model sentences, good/bad examples, and rewrite patterns for common requirement types (functional, performance, interface, constraint, quality, safety).\n",
      "- Checklists and rules: Language rules, formatting, attributes/metadata, and verification planning.\n",
      "\n",
      "Key characteristics of a good requirement (individual)\n",
      "- Necessary: It’s needed to meet a parent need or constraint; traceable to a source.\n",
      "- Correct: States the right intent without contradicting higher-level requirements.\n",
      "- Unambiguous: Only one plausible interpretation; avoids vague terms.\n",
      "- Singular: One requirement per statement (no compound “and/or” conditions).\n",
      "- Feasible/Attainable: Realistic within constraints (technology, cost, schedule).\n",
      "- Verifiable: Pass/fail criteria and a verification method are clear.\n",
      "- Complete: Contains all needed conditions, thresholds, units, and context.\n",
      "- Appropriate to level/implementation-free: States “what,” not “how,” at the current level.\n",
      "\n",
      "Key characteristics of a set of requirements\n",
      "- Complete: Covers all needed capabilities and constraints.\n",
      "- Consistent: No internal conflicts; harmonized terminology and units.\n",
      "- Non-redundant: No duplicates or overlaps that can cause divergence.\n",
      "- Modifiable/Traceable: Organized, uniquely identified, and change-controlled.\n",
      "\n",
      "Language and style rules the guide emphasizes\n",
      "- Use “shall” for binding requirements. Use “should” for goals/recommendations, and “will” for statements of fact or external events (not to impose requirements).\n",
      "- Write in active voice with a clear subject (e.g., “The system shall …”).\n",
      "- One requirement per sentence; avoid chained clauses and “and/or.”\n",
      "- Quantify everything: include measurable criteria, units, tolerances, and time bounds.\n",
      "- Express conditions explicitly: “When/If <condition>, the system shall <response> …”\n",
      "- Avoid vague or subjective words: fast, user-friendly, robust, minimize, optimize, adequate, appropriate, as necessary, as soon as possible, etc.\n",
      "- Avoid open-ended terms: etc., including but not limited to, and/or, TBS. If you must use TBD/TBR, control them with tracking, due dates, and resolution criteria.\n",
      "- Avoid ambiguous references (this, these, it) without clear antecedents; define acronyms and domain terms in a glossary and use them consistently.\n",
      "- Keep rationale separate from the requirement text; store it in an attribute/field.\n",
      "- Align each requirement with a verification method: Test, Analysis, Inspection, or Demonstration.\n",
      "\n",
      "Recommended structure of a requirement statement\n",
      "- [Context/condition] [Subject] shall [action/result] [object] [quantified criteria with units and tolerances] [time/trigger].\n",
      "- Example:\n",
      "  - Weak: “The device shall be low power.”\n",
      "  - Strong: “In steady-state operation, the device shall consume less than 2.5 W at 25 °C and 12 V input.”\n",
      "  - With condition: “When mains power is lost, the controller shall save the current configuration to non-volatile memory within 100 ms.”\n",
      "\n",
      "Attributes/metadata the guide recommends managing\n",
      "- Unique ID, title/short name\n",
      "- Requirement text\n",
      "- Source and rationale\n",
      "- Verification method and success criteria\n",
      "- Priority/criticality and risk\n",
      "- Owner, status, version, change history\n",
      "- Trace links (parents, children, interfaces, hazards, test cases)\n",
      "\n",
      "Typical pitfalls the guide warns about\n",
      "- Combining multiple requirements in one sentence.\n",
      "- Negatives that hide the real need (“shall not fail”) instead of specifying required behavior under fault conditions.\n",
      "- Unbounded performance (“minimize weight”) without a target.\n",
      "- Inconsistent or missing units, significant figures, or environmental conditions.\n",
      "- Level mismatch (design decisions embedded in higher-level requirements).\n",
      "- Interface requirements that refer to unspecified external behaviors or undefined protocols.\n",
      "\n",
      "How it relates to other practices\n",
      "- Aligns with ISO/IEC/IEEE 29148 requirements quality characteristics.\n",
      "- Works with model-based systems engineering (e.g., SysML); even with models, clear textual requirements remain essential.\n",
      "- Plays well with patterns such as EARS (Easy Approach to Requirements Syntax) for trigger-response phrasing.\n",
      "\n",
      "Availability\n",
      "- Published by the INCOSE Requirements Working Group. The guide is periodically updated and is available from INCOSE; many organizations use it for training and as a review checklist.\n",
      "\n",
      "If you’d like, I can:\n",
      "- Provide a short checklist you can paste into reviews.\n",
      "- Rewrite a few of your requirements to match the guide.\n",
      "- Generate EARS-style patterns for your use case.\n"
     ]
    }
   ],
   "source": [
    "response = resp_client.get_response(\n",
    "    input=\"Can you tell me about the INCOSE Guide to Writing Requirements?\",\n",
    "    previous_response_id=None,\n",
    ")"
   ]
  },
  {
   "cell_type": "code",
   "execution_count": 14,
   "id": "83cabee0",
   "metadata": {},
   "outputs": [
    {
     "name": "stdout",
     "output_type": "stream",
     "text": [
      "Printing `response.output_text`:\n",
      "\n",
      " Short answer: Section 4 lays out a set of practical, prescriptive rules for writing clear, testable, consistent requirements. Below is a concise paraphrase of those rules (wording and numbering vary by edition).\n",
      "\n",
      "Language and syntax\n",
      "- Use “shall” to express binding requirements; use “should” for goals/recommendations and “will” for statements of fact or external events (not to impose requirements).\n",
      "- Always name the subject of the requirement (e.g., “The system,” “The ECU,” “The API”); write in active voice.\n",
      "- One requirement per statement; avoid chaining with and, or, and/or, commas, semicolons.\n",
      "- State conditions explicitly: When/If/While <condition>, <item> shall <response> <within/by>.\n",
      "- Prefer positive statements; use “shall not” only to forbid a specific behavior that would otherwise be allowed.\n",
      "- Avoid optional or permissive verbs (“may,” “can,” “able to”) for requirements; if something is optional, define the configuration or mode in which it is required.\n",
      "- Avoid vague, subjective, or unverifiable terms (e.g., easy to use, robust, flexible, adequate, minimize, optimize, appropriate, as necessary, etc.).\n",
      "- Avoid open-ended terms (etc., including but not limited to) and constructs like and/or.\n",
      "- Avoid comparative/superlative terms without a reference or metric (better, best, faster, more, less).\n",
      "- Use clear, unambiguous references; avoid this/that/it without a single, obvious antecedent.\n",
      "- Define acronyms and domain terms in a glossary and use them consistently; avoid synonyms for the same concept.\n",
      "\n",
      "Quantification and measurability\n",
      "- Quantify what is required: include thresholds/targets, units, tolerances, ranges, accuracy/precision, and time bounds.\n",
      "- Specify environmental, operational, and reference conditions (e.g., temperature, voltage, state/mode) under which the requirement applies.\n",
      "- Use consistent units and significant figures; prefer SI where applicable.\n",
      "\n",
      "Content and level\n",
      "- State the “what,” not the “how,” appropriate to the requirement’s level (avoid embedding design/implementation decisions at higher levels).\n",
      "- Each requirement must be necessary (traceable to a source/parent) and free of redundancy.\n",
      "- Each requirement must be feasible/attainable within known constraints (technology, cost, schedule, risk).\n",
      "- Keep rationale and background out of the requirement sentence; store rationale as an attribute/field.\n",
      "\n",
      "Structure and organization\n",
      "- Give every requirement a unique identifier and a clear, singular statement of need.\n",
      "- Avoid mixing multiple, separable needs in one requirement; split them instead.\n",
      "- Keep cross-references precise and minimal; don’t make a requirement depend on reading large external passages to know what it means.\n",
      "\n",
      "Verification and acceptance\n",
      "- Make every requirement verifiable with a clear pass/fail interpretation.\n",
      "- Associate a verification method (Test, Analysis, Inspection, or Demonstration) and, when appropriate, success criteria.\n",
      "- Avoid negative requirements that are not testable (e.g., “shall not fail”); specify required behavior under defined fault/exception conditions instead.\n",
      "\n",
      "Interfaces and external references\n",
      "- Identify external items precisely (by name, version, and identifier); don’t say “compatible with” without defining what that means.\n",
      "- When referencing standards, cite the specific standard and version; avoid ambiguous “per applicable standards.”\n",
      "\n",
      "Handling uncertainty and change\n",
      "- Avoid TBD/TBR values; if unavoidable, control them with an owner, due date, and resolution plan, and minimize their presence in baselined specs.\n",
      "- Keep requirements under configuration control; record source, status, change history, and ownership.\n",
      "\n",
      "Quality of requirement sets (as you write and review)\n",
      "- The set should be complete (covers all needed capabilities/constraints), consistent (no conflicts), non-redundant (no duplicates/overlaps), and traceable (clear parent-child links).\n",
      "- Use consistent terminology, units, and style across the set.\n",
      "\n",
      "Notes\n",
      "- This is a paraphrased summary of Section 4’s rules to avoid reproducing the guide’s copyrighted text verbatim. If you can tell me your edition (e.g., v4) or share the specific rule numbers you care about, I can map these summaries to the exact rule IDs and provide brief quotations where fair use allows.\n"
     ]
    },
    {
     "data": {
      "text/plain": [
       "Response(id='resp_0df66ba03729e3a30068f05491d634819388cef289a7a23e6c', created_at=1760580754.0, error=None, incomplete_details=None, instructions=None, metadata={}, model='gpt-5-2025-08-07', object='response', output=[ResponseReasoningItem(id='rs_0df66ba03729e3a30068f0549284b081938784b26b092c256a', summary=[], type='reasoning', content=None, encrypted_content=None, status=None), ResponseOutputMessage(id='msg_0df66ba03729e3a30068f054c2ad888193a1f3e74e4b1b5c9c', content=[ResponseOutputText(annotations=[], text='Short answer: Section 4 lays out a set of practical, prescriptive rules for writing clear, testable, consistent requirements. Below is a concise paraphrase of those rules (wording and numbering vary by edition).\\n\\nLanguage and syntax\\n- Use “shall” to express binding requirements; use “should” for goals/recommendations and “will” for statements of fact or external events (not to impose requirements).\\n- Always name the subject of the requirement (e.g., “The system,” “The ECU,” “The API”); write in active voice.\\n- One requirement per statement; avoid chaining with and, or, and/or, commas, semicolons.\\n- State conditions explicitly: When/If/While <condition>, <item> shall <response> <within/by>.\\n- Prefer positive statements; use “shall not” only to forbid a specific behavior that would otherwise be allowed.\\n- Avoid optional or permissive verbs (“may,” “can,” “able to”) for requirements; if something is optional, define the configuration or mode in which it is required.\\n- Avoid vague, subjective, or unverifiable terms (e.g., easy to use, robust, flexible, adequate, minimize, optimize, appropriate, as necessary, etc.).\\n- Avoid open-ended terms (etc., including but not limited to) and constructs like and/or.\\n- Avoid comparative/superlative terms without a reference or metric (better, best, faster, more, less).\\n- Use clear, unambiguous references; avoid this/that/it without a single, obvious antecedent.\\n- Define acronyms and domain terms in a glossary and use them consistently; avoid synonyms for the same concept.\\n\\nQuantification and measurability\\n- Quantify what is required: include thresholds/targets, units, tolerances, ranges, accuracy/precision, and time bounds.\\n- Specify environmental, operational, and reference conditions (e.g., temperature, voltage, state/mode) under which the requirement applies.\\n- Use consistent units and significant figures; prefer SI where applicable.\\n\\nContent and level\\n- State the “what,” not the “how,” appropriate to the requirement’s level (avoid embedding design/implementation decisions at higher levels).\\n- Each requirement must be necessary (traceable to a source/parent) and free of redundancy.\\n- Each requirement must be feasible/attainable within known constraints (technology, cost, schedule, risk).\\n- Keep rationale and background out of the requirement sentence; store rationale as an attribute/field.\\n\\nStructure and organization\\n- Give every requirement a unique identifier and a clear, singular statement of need.\\n- Avoid mixing multiple, separable needs in one requirement; split them instead.\\n- Keep cross-references precise and minimal; don’t make a requirement depend on reading large external passages to know what it means.\\n\\nVerification and acceptance\\n- Make every requirement verifiable with a clear pass/fail interpretation.\\n- Associate a verification method (Test, Analysis, Inspection, or Demonstration) and, when appropriate, success criteria.\\n- Avoid negative requirements that are not testable (e.g., “shall not fail”); specify required behavior under defined fault/exception conditions instead.\\n\\nInterfaces and external references\\n- Identify external items precisely (by name, version, and identifier); don’t say “compatible with” without defining what that means.\\n- When referencing standards, cite the specific standard and version; avoid ambiguous “per applicable standards.”\\n\\nHandling uncertainty and change\\n- Avoid TBD/TBR values; if unavoidable, control them with an owner, due date, and resolution plan, and minimize their presence in baselined specs.\\n- Keep requirements under configuration control; record source, status, change history, and ownership.\\n\\nQuality of requirement sets (as you write and review)\\n- The set should be complete (covers all needed capabilities/constraints), consistent (no conflicts), non-redundant (no duplicates/overlaps), and traceable (clear parent-child links).\\n- Use consistent terminology, units, and style across the set.\\n\\nNotes\\n- This is a paraphrased summary of Section 4’s rules to avoid reproducing the guide’s copyrighted text verbatim. If you can tell me your edition (e.g., v4) or share the specific rule numbers you care about, I can map these summaries to the exact rule IDs and provide brief quotations where fair use allows.', type='output_text', logprobs=[])], role='assistant', status='completed', type='message')], parallel_tool_calls=True, temperature=1.0, tool_choice='auto', tools=[], top_p=1.0, background=False, conversation=None, max_output_tokens=None, max_tool_calls=None, previous_response_id='resp_0df66ba03729e3a30068f05450a5f08193853878ed1c308fa7', prompt=None, prompt_cache_key=None, reasoning=Reasoning(effort='medium', generate_summary=None, summary=None), safety_identifier=None, service_tier='default', status='completed', text=ResponseTextConfig(format=ResponseFormatText(type='text'), verbosity='medium'), top_logprobs=0, truncation='disabled', usage=ResponseUsage(input_tokens=1126, input_tokens_details=InputTokensDetails(cached_tokens=0), output_tokens=3451, output_tokens_details=OutputTokensDetails(reasoning_tokens=2560), total_tokens=4577), user=None, billing={'payer': 'developer'}, store=True)"
      ]
     },
     "execution_count": 14,
     "metadata": {},
     "output_type": "execute_result"
    }
   ],
   "source": [
    "resp_client.get_response(\n",
    "    input=[{\"role\": \"user\", \"content\": \"What are the rules for writing requirements as described in Section 4 of the INCOSE Guide to Writing Requirements?\"}],\n",
    "    previous_response_id=resp_client.previous_response_ids[-1]\n",
    ")"
   ]
  },
  {
   "cell_type": "code",
   "execution_count": 15,
   "id": "728292b3",
   "metadata": {},
   "outputs": [
    {
     "name": "stdout",
     "output_type": "stream",
     "text": [
      "Printing `response.output_text`:\n",
      "\n",
      " Here’s a practical, lightweight way to review a requirement for accuracy, aligned with the INCOSE Guide’s Section 4 rules and quality characteristics.\n",
      "\n",
      "Preparation (what to have in hand)\n",
      "- Source: stakeholder need, parent requirement, contract/standard, hazard/mission need.\n",
      "- Context: operational scenarios/modes, interface definitions, architecture or allocation, performance budgets, environmental ranges.\n",
      "- Verification approach: intended method (Test/Analysis/Inspection/Demonstration) and acceptance criteria.\n",
      "\n",
      "Three-pass review method\n",
      "\n",
      "Pass 1 — Language and structure (quick screen)\n",
      "- Subject and shall: Does the statement name the item (e.g., “The system”) and use “shall” for the requirement?\n",
      "- One per requirement: Is there only one enforceable statement (no and/or, chained clauses)?\n",
      "- Positive, active, clear: Prefer positive statements with explicit trigger/condition (“When/If…”).\n",
      "- Measurable: Are there concrete, measurable criteria with units, tolerances, and time bounds?\n",
      "- Unambiguous wording: No vague terms (robust, user-friendly, minimize, as necessary), no open-ended “etc.” or “including but not limited to,” no undefined acronyms.\n",
      "\n",
      "Pass 2 — Technical correctness and completeness (accuracy)\n",
      "- Trace and necessity: Is it traceable to a valid source/parent? Is it actually needed at this level?\n",
      "- Right level of abstraction: States “what” for this level (no premature design), or, if it must constrain design, is the rationale clear and approved?\n",
      "- Context and conditions: Are operating modes, environmental conditions, and preconditions explicit (temp, voltage, state, load, network conditions)?\n",
      "- Values and units sanity check:\n",
      "  - Threshold vs. objective correct? Direction correct (min/max/<=/>=)?\n",
      "  - Units consistent with parent budgets and interfaces; conversions checked.\n",
      "  - Significant figures and tolerances realistic and testable.\n",
      "- Alignment with allocations/budgets: Do numbers roll down correctly from parent performance budgets and constraints? Any double-counting or gaps?\n",
      "- Feasibility: Technically achievable with current technology and margins; compatible with schedule/cost/risk.\n",
      "- Interfaces precise: External items named with version/ID; data types, ranges, and protocols defined or referenced precisely.\n",
      "- Standards/references: Cited by exact identifier and revision; referenced clauses match the intended behavior.\n",
      "- Exceptions/faults: Does it define behavior under relevant faults or edge cases, or is there a linked requirement that does?\n",
      "\n",
      "Pass 3 — Verifiability and conflict checks\n",
      "- Pass/fail interpretation: Can a tester decide unambiguously if it passes? Sketch a test or analysis in one or two sentences.\n",
      "- Verification method fit: Chosen method (T/A/I/D) is appropriate and feasible; required facilities/instruments exist.\n",
      "- Boundary tests: Identify boundary values and worst-case conditions; ensure requirement can be verified there.\n",
      "- Consistency: No conflict with peer requirements (same set and interfacing items); terminology and units consistent.\n",
      "- Redundancy: Not duplicating another requirement; if similar, ensure they don’t diverge or contradict.\n",
      "- TBD/TBR control: Any placeholders have owners, due dates, and resolution criteria.\n",
      "\n",
      "Quick checklist you can apply to any single requirement\n",
      "1) Who is the subject? (“The [item] shall …”)\n",
      "2) Under what condition/mode? (“When/If/While …”)\n",
      "3) What outcome/result is required? (state the “what,” not the “how”)\n",
      "4) How much/how well, with units/tolerances/time bounds?\n",
      "5) Where did this come from? (trace to source/parent; is it necessary?)\n",
      "6) Is it feasible with current budgets/architecture?\n",
      "7) Are interfaces/standards referenced precisely (name, ID, version)?\n",
      "8) Is the wording free of ambiguity and open-ended terms?\n",
      "9) What is the verification method, and what would the pass/fail test look like?\n",
      "10) Any conflicts or duplicates with other requirements?\n",
      "\n",
      "Simple accuracy aids\n",
      "- Paraphrase test: Have two reviewers independently restate the requirement in their own words; differences reveal ambiguity/errors.\n",
      "- EARS reframe: Restate as “When <trigger>, the <item> shall <response> within <time/criteria>” to expose missing conditions or measures.\n",
      "- Boundary walkthrough: Check extremes of environment/inputs for hidden constraints.\n",
      "- Unit/number sanity check: Recalculate conversions; compare to known performance and parent allocations.\n",
      "- Adversarial read: Ask, “Could this be satisfied in an unintended way?” If yes, tighten it.\n",
      "\n",
      "Example (condensed)\n",
      "Original: “The controller shall save data quickly during power loss.”\n",
      "Review outcome:\n",
      "- Add subject/measure/condition: “When input voltage drops below 10.0 V for more than 2 ms, the controller shall commit the current configuration to non-volatile memory within 100 ms without data corruption.”\n",
      "- Check accuracy: 10.0 V/2 ms threshold matches power budget and hold-up time; 100 ms aligns with memory write time plus margin; “data corruption” defined elsewhere; verification by test with controlled brownout; no conflicts with shutdown sequence requirement.\n",
      "\n",
      "Deliverables from the review\n",
      "- Marked-up requirement (or rewritten version)\n",
      "- Recorded findings: defects, questions, TBDs, conflicts\n",
      "- Proposed verification method and sketch of acceptance\n",
      "- Traceability updates (source link, parent allocation)\n",
      "- Decision: accept, revise, split, or defer with TBR/TBD controls\n",
      "\n",
      "If you share a few of your requirements, I can run this review method on them and show the before/after along with the specific issues found.\n"
     ]
    },
    {
     "data": {
      "text/plain": [
       "Response(id='resp_0df66ba03729e3a30068f054d36bb481938740b4ac64bfa61b', created_at=1760580819.0, error=None, incomplete_details=None, instructions=None, metadata={}, model='gpt-5-2025-08-07', object='response', output=[ResponseReasoningItem(id='rs_0df66ba03729e3a30068f054d43d488193b29122e1aca1f322', summary=[], type='reasoning', content=None, encrypted_content=None, status=None), ResponseOutputMessage(id='msg_0df66ba03729e3a30068f054e7b5d48193b2b0a043f612a18a', content=[ResponseOutputText(annotations=[], text='Here’s a practical, lightweight way to review a requirement for accuracy, aligned with the INCOSE Guide’s Section 4 rules and quality characteristics.\\n\\nPreparation (what to have in hand)\\n- Source: stakeholder need, parent requirement, contract/standard, hazard/mission need.\\n- Context: operational scenarios/modes, interface definitions, architecture or allocation, performance budgets, environmental ranges.\\n- Verification approach: intended method (Test/Analysis/Inspection/Demonstration) and acceptance criteria.\\n\\nThree-pass review method\\n\\nPass 1 — Language and structure (quick screen)\\n- Subject and shall: Does the statement name the item (e.g., “The system”) and use “shall” for the requirement?\\n- One per requirement: Is there only one enforceable statement (no and/or, chained clauses)?\\n- Positive, active, clear: Prefer positive statements with explicit trigger/condition (“When/If…”).\\n- Measurable: Are there concrete, measurable criteria with units, tolerances, and time bounds?\\n- Unambiguous wording: No vague terms (robust, user-friendly, minimize, as necessary), no open-ended “etc.” or “including but not limited to,” no undefined acronyms.\\n\\nPass 2 — Technical correctness and completeness (accuracy)\\n- Trace and necessity: Is it traceable to a valid source/parent? Is it actually needed at this level?\\n- Right level of abstraction: States “what” for this level (no premature design), or, if it must constrain design, is the rationale clear and approved?\\n- Context and conditions: Are operating modes, environmental conditions, and preconditions explicit (temp, voltage, state, load, network conditions)?\\n- Values and units sanity check:\\n  - Threshold vs. objective correct? Direction correct (min/max/<=/>=)?\\n  - Units consistent with parent budgets and interfaces; conversions checked.\\n  - Significant figures and tolerances realistic and testable.\\n- Alignment with allocations/budgets: Do numbers roll down correctly from parent performance budgets and constraints? Any double-counting or gaps?\\n- Feasibility: Technically achievable with current technology and margins; compatible with schedule/cost/risk.\\n- Interfaces precise: External items named with version/ID; data types, ranges, and protocols defined or referenced precisely.\\n- Standards/references: Cited by exact identifier and revision; referenced clauses match the intended behavior.\\n- Exceptions/faults: Does it define behavior under relevant faults or edge cases, or is there a linked requirement that does?\\n\\nPass 3 — Verifiability and conflict checks\\n- Pass/fail interpretation: Can a tester decide unambiguously if it passes? Sketch a test or analysis in one or two sentences.\\n- Verification method fit: Chosen method (T/A/I/D) is appropriate and feasible; required facilities/instruments exist.\\n- Boundary tests: Identify boundary values and worst-case conditions; ensure requirement can be verified there.\\n- Consistency: No conflict with peer requirements (same set and interfacing items); terminology and units consistent.\\n- Redundancy: Not duplicating another requirement; if similar, ensure they don’t diverge or contradict.\\n- TBD/TBR control: Any placeholders have owners, due dates, and resolution criteria.\\n\\nQuick checklist you can apply to any single requirement\\n1) Who is the subject? (“The [item] shall …”)\\n2) Under what condition/mode? (“When/If/While …”)\\n3) What outcome/result is required? (state the “what,” not the “how”)\\n4) How much/how well, with units/tolerances/time bounds?\\n5) Where did this come from? (trace to source/parent; is it necessary?)\\n6) Is it feasible with current budgets/architecture?\\n7) Are interfaces/standards referenced precisely (name, ID, version)?\\n8) Is the wording free of ambiguity and open-ended terms?\\n9) What is the verification method, and what would the pass/fail test look like?\\n10) Any conflicts or duplicates with other requirements?\\n\\nSimple accuracy aids\\n- Paraphrase test: Have two reviewers independently restate the requirement in their own words; differences reveal ambiguity/errors.\\n- EARS reframe: Restate as “When <trigger>, the <item> shall <response> within <time/criteria>” to expose missing conditions or measures.\\n- Boundary walkthrough: Check extremes of environment/inputs for hidden constraints.\\n- Unit/number sanity check: Recalculate conversions; compare to known performance and parent allocations.\\n- Adversarial read: Ask, “Could this be satisfied in an unintended way?” If yes, tighten it.\\n\\nExample (condensed)\\nOriginal: “The controller shall save data quickly during power loss.”\\nReview outcome:\\n- Add subject/measure/condition: “When input voltage drops below 10.0 V for more than 2 ms, the controller shall commit the current configuration to non-volatile memory within 100 ms without data corruption.”\\n- Check accuracy: 10.0 V/2 ms threshold matches power budget and hold-up time; 100 ms aligns with memory write time plus margin; “data corruption” defined elsewhere; verification by test with controlled brownout; no conflicts with shutdown sequence requirement.\\n\\nDeliverables from the review\\n- Marked-up requirement (or rewritten version)\\n- Recorded findings: defects, questions, TBDs, conflicts\\n- Proposed verification method and sketch of acceptance\\n- Traceability updates (source link, parent allocation)\\n- Decision: accept, revise, split, or defer with TBR/TBD controls\\n\\nIf you share a few of your requirements, I can run this review method on them and show the before/after along with the specific issues found.', type='output_text', logprobs=[])], role='assistant', status='completed', type='message')], parallel_tool_calls=True, temperature=1.0, tool_choice='auto', tools=[], top_p=1.0, background=False, conversation=None, max_output_tokens=None, max_tool_calls=None, previous_response_id='resp_0df66ba03729e3a30068f05491d634819388cef289a7a23e6c', prompt=None, prompt_cache_key=None, reasoning=Reasoning(effort='medium', generate_summary=None, summary=None), safety_identifier=None, service_tier='default', status='completed', text=ResponseTextConfig(format=ResponseFormatText(type='text'), verbosity='medium'), top_logprobs=0, truncation='disabled', usage=ResponseUsage(input_tokens=2049, input_tokens_details=InputTokensDetails(cached_tokens=1024), output_tokens=2254, output_tokens_details=OutputTokensDetails(reasoning_tokens=1088), total_tokens=4303), user=None, billing={'payer': 'developer'}, store=True)"
      ]
     },
     "execution_count": 15,
     "metadata": {},
     "output_type": "execute_result"
    }
   ],
   "source": [
    "resp_client.get_response(\n",
    "    input=[{\"role\": \"user\", \"content\": \"Based on the previous output, suggest an approach on how to review a requirement for accuracy according to the INCOSE Guide to Writing Requirements?\"}],\n",
    "    previous_response_id=resp_client.previous_response_ids[-1],\n",
    ")"
   ]
  },
  {
   "cell_type": "markdown",
   "id": "67bd7631",
   "metadata": {},
   "source": [
    "#### Prompt Engineering"
   ]
  },
  {
   "cell_type": "code",
   "execution_count": 15,
   "id": "94f459da",
   "metadata": {},
   "outputs": [
    {
     "name": "stdout",
     "output_type": "stream",
     "text": [
      "checklist=['Is the requirement clearly stated, avoiding ambiguous or vague terms?', 'Can all readers (technical and non-technical stakeholders) understand the requirement without confusion?', 'Is it written in plain, simple language with no jargon or undefined acronyms?', \"Does the requirement use active voice and a positive statement (e.g., 'The system shall…')?\", \"Does it avoid subjective words such as 'user-friendly', 'fast', or 'optimal'?\", 'Is the requirement phrased as a single, atomic statement (not combining multiple requirements)?', 'Does the requirement address a single capability or attribute?', 'Avoid compound requirements that include more than one functionality or condition.', 'Split complex requirements into multiple focused ones if necessary.', 'Is the requirement stated in such a way that it can be verified through test, inspection, or analysis?', 'Are the acceptance criteria or measurable parameters clearly indicated or implied?', 'Could a tester or analyst objectively determine if the requirement is met or not?', 'Does the requirement use terminology consistent with the rest of the documentation?', 'Are key terms defined somewhere in a glossary or within the document?', 'Is there any conflicting wording when compared to other requirements?', 'Is the requirement traceable back to a stakeholder need, higher-level system requirement, or project objective?', 'Does the requirement add value to the system, or is it redundant or unnecessary?', 'Is the rationale for the requirement clear or documented (if applicable)?', 'Does the requirement cover all relevant conditions and constraints (e.g., operating environment, performance parameters)?', 'Is it realistically implementable within project constraints (time, cost, technology)?']\n"
     ]
    }
   ],
   "source": [
    "# Create a formatted checklist\n",
    "class Checklist(BaseModel):\n",
    "    checklist: list[str] = Field(description=\"A list of criteria to be followed\") \n",
    "\n",
    "messages = [\n",
    "    {\"role\": \"system\", \"content\": \"Act as a helpful assistant. THe user will hand over a description of a checklist. Your task is to convert this into a checklist as defined by the provided response_format.\"},\n",
    "    {\"role\": \"user\", \"content\": resp_client.previous_responses[-1]}\n",
    "]\n",
    "structured_response = resp_client.get_structured_response(\n",
    "    messages=messages,\n",
    "    response_format=Checklist,\n",
    ")\n",
    "resp_client.check_structured_output(structured_response)"
   ]
  },
  {
   "cell_type": "code",
   "execution_count": 18,
   "id": "f206843d",
   "metadata": {},
   "outputs": [
    {
     "name": "stdout",
     "output_type": "stream",
     "text": [
      "system='You are a meticulous requirements analyst tasked with verifying the quality and clarity of a given requirement based on a detailed checklist.' user='Given the following requirement:\\n\\n\"\"\"\\n{requirement}\\n\"\"\"\\n\\nPlease systematically assess the requirement against each of the following criteria, providing a clear answer (Yes/No) and a concise explanation for each:\\n\\n1. Is the requirement clearly stated, avoiding ambiguous or vague terms?\\n2. Can all readers (technical and non-technical stakeholders) understand the requirement without confusion?\\n3. Is it written in plain, simple language with no jargon or undefined acronyms?\\n4. Does the requirement use active voice and a positive statement (e.g., \\'The system shall…\\')?\\n5. Does it avoid subjective words such as \\'user-friendly\\', \\'fast\\', or \\'optimal\\'?\\n6. Is the requirement phrased as a single, atomic statement (not combining multiple requirements)?\\n7. Does the requirement address a single capability or attribute?\\n8. Avoid compound requirements that include more than one functionality or condition.\\n9. Split complex requirements into multiple focused ones if necessary.\\n10. Is the requirement stated in such a way that it can be verified through test, inspection, or analysis?\\n11. Are the acceptance criteria or measurable parameters clearly indicated or implied?\\n12. Could a tester or analyst objectively determine if the requirement is met or not?\\n13. Does the requirement use terminology consistent with the rest of the documentation?\\n14. Are key terms defined somewhere in a glossary or within the document?\\n15. Is there any conflicting wording when compared to other requirements?\\n16. Is the requirement traceable back to a stakeholder need, higher-level system requirement, or project objective?\\n17. Does the requirement add value to the system, or is it redundant or unnecessary?\\n18. Is the rationale for the requirement clear or documented (if applicable)?\\n19. Does the requirement cover all relevant conditions and constraints (e.g., operating environment, performance parameters)?\\n20. Is it realistically implementable within project constraints (time, cost, technology)?\\n\\nProvide your answer in a numbered list with each item corresponding to the checklist criteria.'\n"
     ]
    }
   ],
   "source": [
    "# Create a prompt using this formatted checklist\n",
    "class PromptTemplate(BaseModel):\n",
    "    system: str = Field(description=\"A prompt system message\") \n",
    "    user: str = Field(description=\"A user message\")\n",
    "messages = [\n",
    "    {\"role\": \"system\", \"content\": \"Act as a prompt engineering specialist. The user will hand over a summary checklist. Create a prompt which systematically checks each criteria in the checklist.\"},\n",
    "    {\"role\": \"user\", \"content\": str(structured_response.parsed.checklist)}\n",
    "]\n",
    "structured_response = resp_client.get_structured_response(\n",
    "    messages=messages,\n",
    "    response_format=PromptTemplate,\n",
    ")\n",
    "resp_client.check_structured_output(structured_response)"
   ]
  },
  {
   "cell_type": "code",
   "execution_count": 20,
   "id": "00717276",
   "metadata": {},
   "outputs": [
    {
     "data": {
      "text/plain": [
       "'You are a meticulous requirements analyst tasked with verifying the quality and clarity of a given requirement based on a detailed checklist.'"
      ]
     },
     "execution_count": 20,
     "metadata": {},
     "output_type": "execute_result"
    }
   ],
   "source": [
    "structured_response.parsed.system"
   ]
  },
  {
   "cell_type": "markdown",
   "id": "e92b1b1c",
   "metadata": {},
   "source": [
    "'You are a meticulous requirements analyst tasked with verifying the quality and clarity of a given requirement based on a detailed checklist.'\n"
   ]
  },
  {
   "cell_type": "code",
   "execution_count": 21,
   "id": "6ddef529",
   "metadata": {},
   "outputs": [
    {
     "data": {
      "text/plain": [
       "'Given the following requirement:\\n\\n\"\"\"\\n{requirement}\\n\"\"\"\\n\\nPlease systematically assess the requirement against each of the following criteria, providing a clear answer (Yes/No) and a concise explanation for each:\\n\\n1. Is the requirement clearly stated, avoiding ambiguous or vague terms?\\n2. Can all readers (technical and non-technical stakeholders) understand the requirement without confusion?\\n3. Is it written in plain, simple language with no jargon or undefined acronyms?\\n4. Does the requirement use active voice and a positive statement (e.g., \\'The system shall…\\')?\\n5. Does it avoid subjective words such as \\'user-friendly\\', \\'fast\\', or \\'optimal\\'?\\n6. Is the requirement phrased as a single, atomic statement (not combining multiple requirements)?\\n7. Does the requirement address a single capability or attribute?\\n8. Avoid compound requirements that include more than one functionality or condition.\\n9. Split complex requirements into multiple focused ones if necessary.\\n10. Is the requirement stated in such a way that it can be verified through test, inspection, or analysis?\\n11. Are the acceptance criteria or measurable parameters clearly indicated or implied?\\n12. Could a tester or analyst objectively determine if the requirement is met or not?\\n13. Does the requirement use terminology consistent with the rest of the documentation?\\n14. Are key terms defined somewhere in a glossary or within the document?\\n15. Is there any conflicting wording when compared to other requirements?\\n16. Is the requirement traceable back to a stakeholder need, higher-level system requirement, or project objective?\\n17. Does the requirement add value to the system, or is it redundant or unnecessary?\\n18. Is the rationale for the requirement clear or documented (if applicable)?\\n19. Does the requirement cover all relevant conditions and constraints (e.g., operating environment, performance parameters)?\\n20. Is it realistically implementable within project constraints (time, cost, technology)?\\n\\nProvide your answer in a numbered list with each item corresponding to the checklist criteria.'"
      ]
     },
     "execution_count": 21,
     "metadata": {},
     "output_type": "execute_result"
    }
   ],
   "source": [
    "structured_response.parsed.user"
   ]
  },
  {
   "cell_type": "markdown",
   "id": "0747d8c6",
   "metadata": {},
   "source": [
    "'Given the following requirement:\\n\\n\"\"\"\\n{requirement}\\n\"\"\"\\n\\nPlease systematically assess the requirement against each of the following criteria, providing a clear answer (Yes/No) and a concise explanation for each:\\n\\n1. Is the requirement clearly stated, avoiding ambiguous or vague terms?\\n2. Can all readers (technical and non-technical stakeholders) understand the requirement without confusion?\\n3. Is it written in plain, simple language with no jargon or undefined acronyms?\\n4. Does the requirement use active voice and a positive statement (e.g., \\'The system shall…\\')?\\n5. Does it avoid subjective words such as \\'user-friendly\\', \\'fast\\', or \\'optimal\\'?\\n6. Is the requirement phrased as a single, atomic statement (not combining multiple requirements)?\\n7. Does the requirement address a single capability or attribute?\\n8. Avoid compound requirements that include more than one functionality or condition.\\n9. Split complex requirements into multiple focused ones if necessary.\\n10. Is the requirement stated in such a way that it can be verified through test, inspection, or analysis?\\n11. Are the acceptance criteria or measurable parameters clearly indicated or implied?\\n12. Could a tester or analyst objectively determine if the requirement is met or not?\\n13. Does the requirement use terminology consistent with the rest of the documentation?\\n14. Are key terms defined somewhere in a glossary or within the document?\\n15. Is there any conflicting wording when compared to other requirements?\\n16. Is the requirement traceable back to a stakeholder need, higher-level system requirement, or project objective?\\n17. Does the requirement add value to the system, or is it redundant or unnecessary?\\n18. Is the rationale for the requirement clear or documented (if applicable)?\\n19. Does the requirement cover all relevant conditions and constraints (e.g., operating environment, performance parameters)?\\n20. Is it realistically implementable within project constraints (time, cost, technology)?\\n\\nProvide your answer in a numbered list with each item corresponding to the checklist criteria.'"
   ]
  },
  {
   "cell_type": "markdown",
   "id": "070f8bb2",
   "metadata": {},
   "source": [
    "#### Evaluation"
   ]
  },
  {
   "cell_type": "code",
   "execution_count": 12,
   "id": "0b7b1425",
   "metadata": {},
   "outputs": [],
   "source": [
    "import src.components.prompteval as pe"
   ]
  },
  {
   "cell_type": "code",
   "execution_count": 13,
   "id": "c79d7b1c",
   "metadata": {},
   "outputs": [
    {
     "name": "stdout",
     "output_type": "stream",
     "text": [
      "eval_acronym_consistency R37\n",
      "eval_avoid_pronouns R24\n",
      "eval_avoids_absolutes R26\n",
      "eval_avoids_parentheses R21\n",
      "eval_avoids_purpose_phrases R20\n",
      "eval_avoids_vague_terms R7\n",
      "eval_consistent_terms_and_units R36\n",
      "eval_correct_punctuation R14\n",
      "eval_correct_spelling R13\n",
      "eval_decimal_format R40\n",
      "eval_definite_articles_usage R5\n",
      "eval_explicit_enumeration R22\n",
      "eval_follows_style_guide R39\n",
      "eval_group_related_needs_requirements R41\n",
      "eval_has_appropriate_subject_verb R3\n",
      "eval_has_combinators R19\n",
      "eval_has_common_units_of_measure R6\n",
      "eval_has_correct_grammar R12\n",
      "eval_has_escape_clauses R8\n",
      "eval_has_explicit_conditions R27\n",
      "eval_has_explicit_conditions_for_single_action R28\n",
      "eval_has_indefinite_temporal_keywords R35\n",
      "eval_has_measurable_performance R34\n",
      "eval_has_no_open_ended_clauses R9\n",
      "eval_has_no_superfluous_infinitives R10\n",
      "eval_has_range_of_values R33\n",
      "eval_has_separate_clauses_for_conditions R11\n",
      "eval_has_supporting_diagram_or_model_reference R23\n",
      "eval_is_active_voice R2\n",
      "eval_is_independent_of_heading R25\n",
      "eval_is_singular_statement R18\n",
      "eval_is_solution_free R31\n",
      "eval_is_structured_set R42\n",
      "eval_is_structured_statement R1\n",
      "eval_is_unique_expression R30\n",
      "eval_logical_expressions R15\n",
      "eval_no_oblique_symbol R17\n",
      "eval_terms_are_defined R4\n",
      "eval_uses_abbreviations R38\n",
      "eval_uses_not R16\n",
      "eval_uses_universal_qualification R32\n"
     ]
    }
   ],
   "source": [
    "import inspect\n",
    "import re\n",
    "# Get all functions in the prompteval module\n",
    "functions = inspect.getmembers(pe, inspect.isfunction)\n",
    "\n",
    "#exclude_funcs = ['eval_correct_spelling', 'eval_is_unique_expression']\n",
    "exclude_funcs = []\n",
    "\n",
    "# Print function names\n",
    "eval_config = {}\n",
    "for name, func in functions:\n",
    "    if (name.startswith(\"eval\")) and (name not in exclude_funcs):\n",
    "        docstring = inspect.getdoc(func)\n",
    "        match = re.search(pattern='R\\d+', string=docstring)\n",
    "        rule_number = match.group() if match else ''\n",
    "        print(name, rule_number)\n",
    "        eval_config[name] = func"
   ]
  },
  {
   "cell_type": "code",
   "execution_count": 14,
   "id": "a4f94627",
   "metadata": {},
   "outputs": [],
   "source": [
    "original_dict_keys = set(eval_config.keys())\n",
    "keys_to_keep = {'eval_acronym_consistency', 'eval_has_escape_clauses', 'eval_has_combinators'}\n",
    "eval_config_filtered = {key: eval_config[key] for key in keys_to_keep if key in original_dict_keys}"
   ]
  },
  {
   "cell_type": "code",
   "execution_count": 15,
   "id": "1f9ddaad",
   "metadata": {},
   "outputs": [
    {
     "data": {
      "text/plain": [
       "{'eval_acronym_consistency': <function src.components.prompteval.eval_acronym_consistency(text: str, acronym_glossary: dict = {}) -> bool>,\n",
       " 'eval_has_combinators': <function src.components.prompteval.eval_has_combinators(text: str) -> bool>,\n",
       " 'eval_has_escape_clauses': <function src.components.prompteval.eval_has_escape_clauses(text: str) -> bool>}"
      ]
     },
     "execution_count": 15,
     "metadata": {},
     "output_type": "execute_result"
    }
   ],
   "source": [
    "eval_config_filtered"
   ]
  },
  {
   "cell_type": "code",
   "execution_count": 16,
   "id": "ddfaa890",
   "metadata": {},
   "outputs": [],
   "source": [
    "import pandas as pd"
   ]
  },
  {
   "cell_type": "code",
   "execution_count": 17,
   "id": "94fb9a0e",
   "metadata": {},
   "outputs": [],
   "source": [
    "def call_evals(df: pd.DataFrame, col: str, eval_config: dict = eval_config) -> pd.DataFrame:\n",
    "    \"\"\"\n",
    "    Run evaluations for each row in the DataFrame.\n",
    "    \n",
    "    Args:\n",
    "        df: DataFrame containing requirements\n",
    "        col: Column containing requirement text\n",
    "        \n",
    "    Returns:\n",
    "        DataFrame with evaluation results\n",
    "    \"\"\"\n",
    "    result_df = df.copy()\n",
    "    \n",
    "    # Run evaluations for each row\n",
    "    for idx, row in result_df.iterrows():\n",
    "        for eval_name, eval_func in eval_config.items():\n",
    "            eval_result = eval_func(row[col])\n",
    "            result_df.loc[idx, eval_name] = pe.convert_bool_to_ohe(eval_result)\n",
    "    return result_df"
   ]
  },
  {
   "cell_type": "code",
   "execution_count": 18,
   "id": "83d51574",
   "metadata": {},
   "outputs": [],
   "source": [
    "df = pd.DataFrame(data={'requirement': 'The system shall not contain a check for overpressure and underpressure.'}, index=[0])"
   ]
  },
  {
   "cell_type": "code",
   "execution_count": 19,
   "id": "8335d6d0",
   "metadata": {},
   "outputs": [],
   "source": [
    "eval_df = call_evals(df, 'requirement', eval_config_filtered)"
   ]
  },
  {
   "cell_type": "code",
   "execution_count": 20,
   "id": "fd47fb3e",
   "metadata": {},
   "outputs": [
    {
     "data": {
      "text/html": [
       "<div>\n",
       "<style scoped>\n",
       "    .dataframe tbody tr th:only-of-type {\n",
       "        vertical-align: middle;\n",
       "    }\n",
       "\n",
       "    .dataframe tbody tr th {\n",
       "        vertical-align: top;\n",
       "    }\n",
       "\n",
       "    .dataframe thead th {\n",
       "        text-align: right;\n",
       "    }\n",
       "</style>\n",
       "<table border=\"1\" class=\"dataframe\">\n",
       "  <thead>\n",
       "    <tr style=\"text-align: right;\">\n",
       "      <th></th>\n",
       "      <th>requirement</th>\n",
       "      <th>eval_acronym_consistency</th>\n",
       "      <th>eval_has_combinators</th>\n",
       "      <th>eval_has_escape_clauses</th>\n",
       "    </tr>\n",
       "  </thead>\n",
       "  <tbody>\n",
       "    <tr>\n",
       "      <th>0</th>\n",
       "      <td>The system shall not contain a check for overp...</td>\n",
       "      <td>1.0</td>\n",
       "      <td>0.0</td>\n",
       "      <td>1.0</td>\n",
       "    </tr>\n",
       "  </tbody>\n",
       "</table>\n",
       "</div>"
      ],
      "text/plain": [
       "                                         requirement  \\\n",
       "0  The system shall not contain a check for overp...   \n",
       "\n",
       "   eval_acronym_consistency  eval_has_combinators  eval_has_escape_clauses  \n",
       "0                       1.0                   0.0                      1.0  "
      ]
     },
     "execution_count": 20,
     "metadata": {},
     "output_type": "execute_result"
    }
   ],
   "source": [
    "eval_df"
   ]
  },
  {
   "cell_type": "code",
   "execution_count": null,
   "id": "b83af647",
   "metadata": {},
   "outputs": [],
   "source": [
    "def map_A_to_B(list_of_A:list, mapdict_AB:dict) -> list:\n",
    "    \"\"\"This function takes in a list (call as A) and a \n",
    "    dictionary who keys include elements of the list A. Using\n",
    "    this dictionary and the input list A, an output list is generaed\n",
    "    where the original elements of the list A are mapped to the \n",
    "    values of the dictionary provided for each key.\n",
    "    \n",
    "    Args:\n",
    "        list_of_A (list): an input list\n",
    "        mapdict_AB (dict): a dictionary with keys corresponding to the input list elements\n",
    "    \"\"\"\n",
    "    return [*map(mapdict_AB.get, list_of_A)]\n",
    "\n",
    "def get_failed_evals(df: pd.DataFrame) -> pd.DataFrame:\n",
    "    \"\"\"\n",
    "    Identify failed evaluations for each requirement.\n",
    "    \n",
    "    Args:\n",
    "        df: DataFrame with evaluation results\n",
    "        \n",
    "    Returns:\n",
    "        DataFrame with added 'failed_evals' column\n",
    "    \"\"\"\n",
    "    result_df = df.copy()\n",
    "    eval_cols = [c for c in result_df.columns if c.startswith(\"eval\")]\n",
    "    \n",
    "    result_df['failed_evals'] = result_df[eval_cols].apply(\n",
    "        lambda row: [eval_cols[i] for i, val in enumerate(row) if val == 0], \n",
    "        axis=1\n",
    "    )\n",
    "    \n",
    "    return result_df\n",
    "\n",
    "def map_failed_evals_to_rule_ids(\n",
    "    df: pd.DataFrame, \n",
    "    eval_to_rule_map: Dict[str, str]\n",
    ") -> pd.DataFrame:\n",
    "    \"\"\"\n",
    "    Map failed evaluations to rule IDs.\n",
    "    \n",
    "    Args:\n",
    "        df: DataFrame with failed evaluations\n",
    "        eval_to_rule_map: Mapping from evaluation names to rule IDs\n",
    "        \n",
    "    Returns:\n",
    "        DataFrame with added 'failed_evals_rule_ids' column\n",
    "    \"\"\"\n",
    "    result_df = df.copy()\n",
    "    \n",
    "    result_df['failed_evals_rule_ids'] = result_df['failed_evals'].apply(\n",
    "        lambda eval_list: map_A_to_B(eval_list, eval_to_rule_map) if isinstance(eval_list, list) else None\n",
    "    )\n",
    "    \n",
    "    return result_df\n",
    "\n",
    "def check_for_failed_evals(df):\n",
    "    \"\"\"\n",
    "    Checks whether any evaluations were failed and if so, then provides a boolean response used to run the review prompt.\n",
    "    \"\"\"\n",
    "    pass"
   ]
  },
  {
   "cell_type": "code",
   "execution_count": 22,
   "id": "9a4fafb6",
   "metadata": {},
   "outputs": [],
   "source": [
    "# map eval funcs to rule group to find which rule groups need to be revised through prompts\n",
    "eval_df = get_failed_evals(eval_df)"
   ]
  },
  {
   "cell_type": "code",
   "execution_count": 23,
   "id": "66390cbd",
   "metadata": {},
   "outputs": [
    {
     "data": {
      "text/html": [
       "<div>\n",
       "<style scoped>\n",
       "    .dataframe tbody tr th:only-of-type {\n",
       "        vertical-align: middle;\n",
       "    }\n",
       "\n",
       "    .dataframe tbody tr th {\n",
       "        vertical-align: top;\n",
       "    }\n",
       "\n",
       "    .dataframe thead th {\n",
       "        text-align: right;\n",
       "    }\n",
       "</style>\n",
       "<table border=\"1\" class=\"dataframe\">\n",
       "  <thead>\n",
       "    <tr style=\"text-align: right;\">\n",
       "      <th></th>\n",
       "      <th>requirement</th>\n",
       "      <th>eval_acronym_consistency</th>\n",
       "      <th>eval_has_combinators</th>\n",
       "      <th>eval_has_escape_clauses</th>\n",
       "      <th>failed_evals</th>\n",
       "    </tr>\n",
       "  </thead>\n",
       "  <tbody>\n",
       "    <tr>\n",
       "      <th>0</th>\n",
       "      <td>The system shall not contain a check for overp...</td>\n",
       "      <td>1.0</td>\n",
       "      <td>0.0</td>\n",
       "      <td>1.0</td>\n",
       "      <td>[eval_has_combinators]</td>\n",
       "    </tr>\n",
       "  </tbody>\n",
       "</table>\n",
       "</div>"
      ],
      "text/plain": [
       "                                         requirement  \\\n",
       "0  The system shall not contain a check for overp...   \n",
       "\n",
       "   eval_acronym_consistency  eval_has_combinators  eval_has_escape_clauses  \\\n",
       "0                       1.0                   0.0                      1.0   \n",
       "\n",
       "             failed_evals  \n",
       "0  [eval_has_combinators]  "
      ]
     },
     "execution_count": 23,
     "metadata": {},
     "output_type": "execute_result"
    }
   ],
   "source": [
    "eval_df"
   ]
  },
  {
   "cell_type": "code",
   "execution_count": 26,
   "id": "5a894c39",
   "metadata": {},
   "outputs": [],
   "source": [
    "mapping = config[\"SECTION_4_RULE_GROUPS\"]"
   ]
  },
  {
   "cell_type": "code",
   "execution_count": 27,
   "id": "70cc6885",
   "metadata": {},
   "outputs": [
    {
     "data": {
      "text/plain": [
       "{'eval_acronym_consistency': 'Uniformity_Of_Language',\n",
       " 'eval_avoid_pronouns': 'Completeness',\n",
       " 'eval_avoids_absolutes': 'Realism',\n",
       " 'eval_avoids_parentheses': 'Abstraction',\n",
       " 'eval_avoids_purpose_phrases': 'Abstraction',\n",
       " 'eval_avoids_vague_terms': 'Accuracy',\n",
       " 'eval_consistent_terms_and_units': 'Quantification',\n",
       " 'eval_correct_punctuation': 'Uniformity_Of_Language',\n",
       " 'eval_correct_spelling': 'Uniformity_Of_Language',\n",
       " 'eval_decimal_format': 'Uniformity_Of_Language',\n",
       " 'eval_definite_articles_usage': 'Conditions',\n",
       " 'eval_explicit_enumeration': 'Abstraction',\n",
       " 'eval_follows_style_guide': 'Uniformity_Of_Language',\n",
       " 'eval_group_related_needs_requirements': 'Modularity',\n",
       " 'eval_has_appropriate_subject_verb': 'Non_Ambiguity',\n",
       " 'eval_has_combinators': 'Abstraction',\n",
       " 'eval_has_common_units_of_measure': 'Non_Ambiguity',\n",
       " 'eval_has_correct_grammar': 'Accuracy',\n",
       " 'eval_has_escape_clauses': 'Conditions',\n",
       " 'eval_has_explicit_conditions': 'Conditions',\n",
       " 'eval_has_explicit_conditions_for_single_action': 'Conditions',\n",
       " 'eval_has_indefinite_temporal_keywords': 'Quantification',\n",
       " 'eval_has_measurable_performance': 'Tolerance',\n",
       " 'eval_has_no_open_ended_clauses': 'Accuracy',\n",
       " 'eval_has_no_superfluous_infinitives': 'Concision',\n",
       " 'eval_has_range_of_values': 'Tolerance',\n",
       " 'eval_has_separate_clauses_for_conditions': 'Concision',\n",
       " 'eval_has_supporting_diagram_or_model_reference': 'Singularity',\n",
       " 'eval_is_active_voice': 'Non_Ambiguity',\n",
       " 'eval_is_independent_of_heading': 'Completeness',\n",
       " 'eval_is_singular_statement': 'Singularity',\n",
       " 'eval_is_solution_free': 'Abstraction',\n",
       " 'eval_is_structured_set': 'Modularity',\n",
       " 'eval_is_structured_statement': 'Concision',\n",
       " 'eval_is_unique_expression': 'Uniqueness',\n",
       " 'eval_logical_expressions': 'Non_Ambiguity',\n",
       " 'eval_no_oblique_symbol': 'Non_Ambiguity',\n",
       " 'eval_terms_are_defined': 'Non_Ambiguity',\n",
       " 'eval_uses_abbreviations': 'Accuracy',\n",
       " 'eval_uses_not': 'Tolerance',\n",
       " 'eval_uses_universal_qualification': 'Quantifiers'}"
      ]
     },
     "execution_count": 27,
     "metadata": {},
     "output_type": "execute_result"
    }
   ],
   "source": [
    "mapping"
   ]
  },
  {
   "cell_type": "code",
   "execution_count": 30,
   "id": "fab935af",
   "metadata": {},
   "outputs": [],
   "source": [
    "eval_df = map_failed_evals_to_rule_ids(eval_df, eval_to_rule_map=mapping)"
   ]
  },
  {
   "cell_type": "code",
   "execution_count": 31,
   "id": "1f79d4e6",
   "metadata": {},
   "outputs": [
    {
     "data": {
      "text/html": [
       "<div>\n",
       "<style scoped>\n",
       "    .dataframe tbody tr th:only-of-type {\n",
       "        vertical-align: middle;\n",
       "    }\n",
       "\n",
       "    .dataframe tbody tr th {\n",
       "        vertical-align: top;\n",
       "    }\n",
       "\n",
       "    .dataframe thead th {\n",
       "        text-align: right;\n",
       "    }\n",
       "</style>\n",
       "<table border=\"1\" class=\"dataframe\">\n",
       "  <thead>\n",
       "    <tr style=\"text-align: right;\">\n",
       "      <th></th>\n",
       "      <th>requirement</th>\n",
       "      <th>eval_acronym_consistency</th>\n",
       "      <th>eval_has_combinators</th>\n",
       "      <th>eval_has_escape_clauses</th>\n",
       "      <th>failed_evals</th>\n",
       "      <th>failed_evals_rule_ids</th>\n",
       "    </tr>\n",
       "  </thead>\n",
       "  <tbody>\n",
       "    <tr>\n",
       "      <th>0</th>\n",
       "      <td>The system shall not contain a check for overp...</td>\n",
       "      <td>1.0</td>\n",
       "      <td>0.0</td>\n",
       "      <td>1.0</td>\n",
       "      <td>[eval_has_combinators]</td>\n",
       "      <td>[Abstraction]</td>\n",
       "    </tr>\n",
       "  </tbody>\n",
       "</table>\n",
       "</div>"
      ],
      "text/plain": [
       "                                         requirement  \\\n",
       "0  The system shall not contain a check for overp...   \n",
       "\n",
       "   eval_acronym_consistency  eval_has_combinators  eval_has_escape_clauses  \\\n",
       "0                       1.0                   0.0                      1.0   \n",
       "\n",
       "             failed_evals failed_evals_rule_ids  \n",
       "0  [eval_has_combinators]         [Abstraction]  "
      ]
     },
     "execution_count": 31,
     "metadata": {},
     "output_type": "execute_result"
    }
   ],
   "source": [
    "eval_df"
   ]
  },
  {
   "cell_type": "code",
   "execution_count": null,
   "id": "be2c57ef",
   "metadata": {},
   "outputs": [],
   "source": []
  }
 ],
 "metadata": {
  "kernelspec": {
   "display_name": "venv (3.11.0)",
   "language": "python",
   "name": "python3"
  },
  "language_info": {
   "codemirror_mode": {
    "name": "ipython",
    "version": 3
   },
   "file_extension": ".py",
   "mimetype": "text/x-python",
   "name": "python",
   "nbconvert_exporter": "python",
   "pygments_lexer": "ipython3",
   "version": "3.11.0"
  }
 },
 "nbformat": 4,
 "nbformat_minor": 5
}
